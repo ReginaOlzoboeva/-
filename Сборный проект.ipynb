{
 "cells": [
  {
   "cell_type": "markdown",
   "metadata": {},
   "source": [
    "#### Регина, привет! \n",
    "\n",
    "Меня зовут Максим Попов, и я буду проверять твой проект. Давай будем общаться на «ты». Но если тебе комфортнее на «вы», обязательно сообщи мне об этом. \n",
    "По ходу тетрадки ты найдешь комментарии к проекту, они будут в отдельных ячейках Markdown с заголовком «Комментарий ревьюера». Постарайся учесть эти комментарии для дальнейших проектов.\n",
    "\n",
    "---\n",
    "\n",
    "Я буду отмечать комментарии цветом и примечанием. В конце заголовка комментария будет указан номер итерации проверки. Пожалуйста, не удаляй и не правь мои комментарии\n",
    "\n",
    "Критично - требует исправления, влияет на удачное выполнение проекта\n",
    "\n",
    "Рекомендация - комментарий является рекомендацией или советом. Mожешь учесть их при выполнении будущих заданий. На твое усмотрение\n",
    "\n",
    "Отлично - Так отмечены удачные решения и подходы, на которые стоит опираться в будущих проектах\n",
    "\n",
    "<div class=\"alert alert-block alert-danger\">\n",
    "    \n",
    "\n",
    "### Комментарий от ревьюера\n",
    "Критично\n",
    "\n",
    "Такой комментарий нужно исправить обязательно, он критически влияет на удачное выполнение проекта.\n",
    "</div>\n",
    "    \n",
    "---\n",
    "\n",
    "<div class=\"alert alert-block alert-warning\">\n",
    "    \n",
    "\n",
    "### Комментарий от ревьюера\n",
    "Рекомендация\n",
    "\n",
    "Такой комментарий является рекомендацией или советом. Mожешь учесть их при выполнении будущих заданий. На твое усмотрение. \n",
    "</div>\n",
    "\n",
    "---\n",
    "\n",
    "<div class=\"alert alert-block alert-success\">\n",
    "    \n",
    "\n",
    "### Комментарий от ревьюера\n",
    "Отлично\n",
    "    \n",
    "Так отмечены удачные решения и подходы, на которые стоит опираться в будущих проектах\n",
    "</div>"
   ]
  },
  {
   "cell_type": "markdown",
   "metadata": {},
   "source": [
    "<div class=\"alert alert-block alert-success\">\n",
    "    \n",
    "    \n",
    "### Комментарий от ревьюера v_1\n",
    "    \n",
    "Регина, у тебя отличная работа, но следующие моменты надо исправить:\n",
    "    \n",
    "1. Выбор актуального периода\n",
    "2. Анализ прибыльных жанров\n",
    "3. Промежуточные выводы по шагам\n",
    "4. Рейтинг ESRB в портрете пользователя\n",
    "5. Проверка второй гипотезы\n",
    "\n",
    "Подробные комментарии по ходу работы\n",
    "    \n",
    "Желтые комментарии-рекомендации на твое усмотрение.\n",
    "    \n",
    "Если есть вопросы ко мне, можешь оставить их в отдельном комментарии\n",
    "</div>"
   ]
  },
  {
   "cell_type": "markdown",
   "metadata": {},
   "source": [
    " <div class=\"alert alert-info\" style=\"box-shadow: 4px 4px 4px\">\n",
    "<b>Комментарий студента:</b> Максим, привет! А я тебя помню 😃🤗 Ты в проекте по исследовательскому анализу не поскупился на красные рамочки 😌 но я тебе благодарна, много полезного оттуда унесла для масштабирования 😅Сейчас: то, что я правила, либо в синей рамке, либо жирным внутри текста. Также хотела у тебя попросить пару подсказок: Как убрать цифры из заголовков? А то когда я делаю эти решетки, заголовки нумеруются черт возьми. И можно ли в Юпитере подчеркивать текст? Я на досуге это, конечно, загуглю, но в 3 ночи вопросы есть, а желания топать в гугл вот совершенно нету. Прости. И выражаю большую, вселенскую благодарность за все, и про все, может, даже пока не прощаясь.\n",
    "<br>\n",
    "</div>"
   ]
  },
  {
   "cell_type": "markdown",
   "metadata": {},
   "source": [
    "<div class=\"alert alert-block alert-success\">\n",
    "    \n",
    "### Комментарий от ревьюера v_2\n",
    "    \n",
    "Регина, привет!\n",
    "    \n",
    "😂\n",
    "    \n",
    "Хорошо, что красные комментарии помогли 😃\n",
    "    \n",
    "Надеюсь, что проверка этого проекта тоже даст тебе что-то полезное 😅\n",
    "    \n",
    "По твоим вопросам\n",
    "    \n",
    "Памятка по markdown\n",
    "   \n",
    "http://konvut.github.io/k50articles/\n",
    "    \n",
    "Цифры из заголовков -  на гайку где оглавнение и две верхних галочки снимаешь\n",
    "    \n",
    "По гипотезам, ошибка была не в коде, а в формулировке. Если p-value меньше установленного уровня значимости, то у тебя есть основания отвергнуть нулевую гипотезу о РАВЕНСТВЕ средних. Но  при первой сдаче ты сформулировала нулевую гипотезу как НЕравенство средних. Следовательно и интерпретация результата была неверна. Сейчас все ОК.\n",
    "\n",
    "По заполнению рейтинга. На шаге предобработки необязательно. Но при исследовании надо, да\n",
    "    \n",
    "Если чувствуешь неуверенность в понимании статистики рекомендую курсы Карпова на степике\n",
    "    \n",
    "Проект принят, успеха в дальнейшем обучении!\n",
    "    \n",
    "Надеюсь еще наткнусь на твои проекты)\n",
    "</div>"
   ]
  },
  {
   "cell_type": "markdown",
   "metadata": {},
   "source": [
    "# Анализ игровых платформ и факторов, влияющих на их популярность.\n",
    "\n",
    "Вы работаете в интернет-магазине «Стримчик», который продаёт по всему миру компьютерные игры. Из открытых источников доступны исторические данные о продажах игр, оценки пользователей и экспертов, жанры и платформы (например, Xbox или PlayStation). Вам нужно выявить определяющие успешность игры закономерности. Это позволит сделать ставку на потенциально популярный продукт и спланировать рекламные кампании."
   ]
  },
  {
   "cell_type": "markdown",
   "metadata": {},
   "source": [
    "**Описание данных**\n",
    "* Name — название игры\n",
    "* Platform — платформа\n",
    "* Year_of_Release — год выпуска\n",
    "* Genre — жанр игры\n",
    "* NA_sales — продажи в Северной Америке (миллионы проданных копий)\n",
    "* EU_sales — продажи в Европе (миллионы проданных копий)\n",
    "* JP_sales — продажи в Японии (миллионы проданных копий)\n",
    "* Other_sales — продажи в других странах (миллионы проданных копий)\n",
    "* Critic_Score — оценка критиков (максимум 100)\n",
    "* User_Score — оценка пользователей (максимум 10)\n",
    "* Rating — рейтинг от организации ESRB (англ. Entertainment Software Rating Board). Эта ассоциация определяет рейтинг компьютерных игр и присваивает им подходящую возрастную категорию."
   ]
  },
  {
   "cell_type": "markdown",
   "metadata": {},
   "source": [
    "<div class=\"alert alert-block alert-success\">\n",
    "    \n",
    "\n",
    "### Комментарий от ревьюера v_1\n",
    "Отлично\n",
    "\n",
    "Молодец, что в начале проекта знакомишь с ним, так работа  приобретает структуру и лучше воспринимается.\n",
    "</div>"
   ]
  },
  {
   "cell_type": "markdown",
   "metadata": {},
   "source": [
    "## Изучение данных из файла"
   ]
  },
  {
   "cell_type": "code",
   "execution_count": 103,
   "metadata": {},
   "outputs": [],
   "source": [
    "# импорт библиотек\n",
    "\n",
    "import pandas as pd\n",
    "import matplotlib.pyplot as plt\n",
    "import numpy as np\n",
    "from scipy import stats as st"
   ]
  },
  {
   "cell_type": "markdown",
   "metadata": {},
   "source": [
    "<div class=\"alert alert-block alert-success\">\n",
    "    \n",
    "\n",
    "### Комментарий от ревьюера v_1\n",
    "Отлично\n",
    "\n",
    "Отлично, библиотеки импортированы в начале тетрадки, в отдельной ячейке.\n",
    "</div>"
   ]
  },
  {
   "cell_type": "code",
   "execution_count": 104,
   "metadata": {},
   "outputs": [
    {
     "name": "stdout",
     "output_type": "stream",
     "text": [
      "<class 'pandas.core.frame.DataFrame'>\n",
      "RangeIndex: 16715 entries, 0 to 16714\n",
      "Data columns (total 11 columns):\n",
      "Name               16713 non-null object\n",
      "Platform           16715 non-null object\n",
      "Year_of_Release    16446 non-null float64\n",
      "Genre              16713 non-null object\n",
      "NA_sales           16715 non-null float64\n",
      "EU_sales           16715 non-null float64\n",
      "JP_sales           16715 non-null float64\n",
      "Other_sales        16715 non-null float64\n",
      "Critic_Score       8137 non-null float64\n",
      "User_Score         10014 non-null object\n",
      "Rating             9949 non-null object\n",
      "dtypes: float64(6), object(5)\n",
      "memory usage: 1.4+ MB\n"
     ]
    }
   ],
   "source": [
    "# чтение файла с данными о пользователях и сохранение в data\n",
    "# получение общей информации о данных в таблице\n",
    "\n",
    "data = pd.read_csv('/datasets/games.csv')\n",
    "data.info()"
   ]
  },
  {
   "cell_type": "code",
   "execution_count": 105,
   "metadata": {},
   "outputs": [
    {
     "data": {
      "text/html": [
       "<div>\n",
       "<style scoped>\n",
       "    .dataframe tbody tr th:only-of-type {\n",
       "        vertical-align: middle;\n",
       "    }\n",
       "\n",
       "    .dataframe tbody tr th {\n",
       "        vertical-align: top;\n",
       "    }\n",
       "\n",
       "    .dataframe thead th {\n",
       "        text-align: right;\n",
       "    }\n",
       "</style>\n",
       "<table border=\"1\" class=\"dataframe\">\n",
       "  <thead>\n",
       "    <tr style=\"text-align: right;\">\n",
       "      <th></th>\n",
       "      <th>Name</th>\n",
       "      <th>Platform</th>\n",
       "      <th>Year_of_Release</th>\n",
       "      <th>Genre</th>\n",
       "      <th>NA_sales</th>\n",
       "      <th>EU_sales</th>\n",
       "      <th>JP_sales</th>\n",
       "      <th>Other_sales</th>\n",
       "      <th>Critic_Score</th>\n",
       "      <th>User_Score</th>\n",
       "      <th>Rating</th>\n",
       "    </tr>\n",
       "  </thead>\n",
       "  <tbody>\n",
       "    <tr>\n",
       "      <td>0</td>\n",
       "      <td>Wii Sports</td>\n",
       "      <td>Wii</td>\n",
       "      <td>2006.0</td>\n",
       "      <td>Sports</td>\n",
       "      <td>41.36</td>\n",
       "      <td>28.96</td>\n",
       "      <td>3.77</td>\n",
       "      <td>8.45</td>\n",
       "      <td>76.0</td>\n",
       "      <td>8</td>\n",
       "      <td>E</td>\n",
       "    </tr>\n",
       "    <tr>\n",
       "      <td>1</td>\n",
       "      <td>Super Mario Bros.</td>\n",
       "      <td>NES</td>\n",
       "      <td>1985.0</td>\n",
       "      <td>Platform</td>\n",
       "      <td>29.08</td>\n",
       "      <td>3.58</td>\n",
       "      <td>6.81</td>\n",
       "      <td>0.77</td>\n",
       "      <td>NaN</td>\n",
       "      <td>NaN</td>\n",
       "      <td>NaN</td>\n",
       "    </tr>\n",
       "    <tr>\n",
       "      <td>2</td>\n",
       "      <td>Mario Kart Wii</td>\n",
       "      <td>Wii</td>\n",
       "      <td>2008.0</td>\n",
       "      <td>Racing</td>\n",
       "      <td>15.68</td>\n",
       "      <td>12.76</td>\n",
       "      <td>3.79</td>\n",
       "      <td>3.29</td>\n",
       "      <td>82.0</td>\n",
       "      <td>8.3</td>\n",
       "      <td>E</td>\n",
       "    </tr>\n",
       "    <tr>\n",
       "      <td>3</td>\n",
       "      <td>Wii Sports Resort</td>\n",
       "      <td>Wii</td>\n",
       "      <td>2009.0</td>\n",
       "      <td>Sports</td>\n",
       "      <td>15.61</td>\n",
       "      <td>10.93</td>\n",
       "      <td>3.28</td>\n",
       "      <td>2.95</td>\n",
       "      <td>80.0</td>\n",
       "      <td>8</td>\n",
       "      <td>E</td>\n",
       "    </tr>\n",
       "    <tr>\n",
       "      <td>4</td>\n",
       "      <td>Pokemon Red/Pokemon Blue</td>\n",
       "      <td>GB</td>\n",
       "      <td>1996.0</td>\n",
       "      <td>Role-Playing</td>\n",
       "      <td>11.27</td>\n",
       "      <td>8.89</td>\n",
       "      <td>10.22</td>\n",
       "      <td>1.00</td>\n",
       "      <td>NaN</td>\n",
       "      <td>NaN</td>\n",
       "      <td>NaN</td>\n",
       "    </tr>\n",
       "  </tbody>\n",
       "</table>\n",
       "</div>"
      ],
      "text/plain": [
       "                       Name Platform  Year_of_Release         Genre  NA_sales  \\\n",
       "0                Wii Sports      Wii           2006.0        Sports     41.36   \n",
       "1         Super Mario Bros.      NES           1985.0      Platform     29.08   \n",
       "2            Mario Kart Wii      Wii           2008.0        Racing     15.68   \n",
       "3         Wii Sports Resort      Wii           2009.0        Sports     15.61   \n",
       "4  Pokemon Red/Pokemon Blue       GB           1996.0  Role-Playing     11.27   \n",
       "\n",
       "   EU_sales  JP_sales  Other_sales  Critic_Score User_Score Rating  \n",
       "0     28.96      3.77         8.45          76.0          8      E  \n",
       "1      3.58      6.81         0.77           NaN        NaN    NaN  \n",
       "2     12.76      3.79         3.29          82.0        8.3      E  \n",
       "3     10.93      3.28         2.95          80.0          8      E  \n",
       "4      8.89     10.22         1.00           NaN        NaN    NaN  "
      ]
     },
     "execution_count": 105,
     "metadata": {},
     "output_type": "execute_result"
    }
   ],
   "source": [
    "# получение первых 5 строк таблицы \n",
    "data.head()"
   ]
  },
  {
   "cell_type": "code",
   "execution_count": 106,
   "metadata": {},
   "outputs": [
    {
     "data": {
      "text/plain": [
       "Name                  2\n",
       "Platform              0\n",
       "Year_of_Release     269\n",
       "Genre                 2\n",
       "NA_sales              0\n",
       "EU_sales              0\n",
       "JP_sales              0\n",
       "Other_sales           0\n",
       "Critic_Score       8578\n",
       "User_Score         6701\n",
       "Rating             6766\n",
       "dtype: int64"
      ]
     },
     "execution_count": 106,
     "metadata": {},
     "output_type": "execute_result"
    }
   ],
   "source": [
    "# подсчет пропусков\n",
    "data.isna().sum()"
   ]
  },
  {
   "cell_type": "markdown",
   "metadata": {},
   "source": [
    "\n",
    "Исследование затронет анализ более 16,7 тыс. игр, выпущенных в разные годы на разных платформах, которые продаются по всему миру: Северная Америка, Европа, Япония и других странах, и будет включать анализ наиболее популярных платформ, годовую динамику продаж и популярность платформ и жанров игры в тех или иных регионах. Следует отметить, что большая часть игр не имеет пользовательских оценок и оценок критиков, однако, в целях неухудшения качества данных заполнения или замены пропусков не произойдет. **Играм присваивается рейтинг от организации ESRB, который может влиять на продажи. В связи с тем, что более 6,7 тыс. значенрий в столбце с рейтингом пропущены, предлагается для оценки влияния рейтинга на продажи заполнить пропущенные значения значением \"unknown\".**"
   ]
  },
  {
   "cell_type": "markdown",
   "metadata": {},
   "source": [
    "<div class=\"alert alert-block alert-success\">\n",
    "    \n",
    "\n",
    "### Комментарий от ревьюера v_1\n",
    "Отлично\n",
    "\n",
    "Отлично, первый взгляд на данные есть, можем приступать к подготовке данных для анализа\n",
    "</div>"
   ]
  },
  {
   "cell_type": "markdown",
   "metadata": {},
   "source": [
    "## Предобработка данных"
   ]
  },
  {
   "cell_type": "markdown",
   "metadata": {},
   "source": [
    "Этап предобработки данных будет включать работу с пропусками и изменение типа данных.\n",
    "1. Наличие пропусков в столбцах, дающих информацию об оценках пользователей и критиков и рейтинге, не повредит результатам исследования, а их заполнение лишь навредит результатам, так как на оценку, тем более субъективного характера, может влиять совокупность факторов и предугадать адекватные значения не представляется возможным, следовательно, можно оставить информацию в первоначальном виде. \n",
    "2. Важный момент здесь, что у столбца с датой выпуска игры и с пользовательскими оценками неверный тип данных, соответственно, потребуется изменение типа данных столбца. "
   ]
  },
  {
   "cell_type": "markdown",
   "metadata": {},
   "source": [
    "<div class=\"alert alert-block alert-success\">\n",
    "    \n",
    "\n",
    "### Комментарий от ревьюера v_1\n",
    "Отлично\n",
    "\n",
    "Молодец, что в начале шага описываешь перечень действий\n",
    "</div>"
   ]
  },
  {
   "cell_type": "code",
   "execution_count": 107,
   "metadata": {},
   "outputs": [],
   "source": [
    "# переименование столбцов\n",
    "data = data.rename(columns={'Name':'name', 'Platform':'platform', 'Year_of_Release':'year_of_release', 'Genre':'genre', 'Other_sales':'other_sales', 'Critic_Score':'critic_score', 'User_Score':'user_score', 'Rating':'rating'})"
   ]
  },
  {
   "cell_type": "code",
   "execution_count": 108,
   "metadata": {},
   "outputs": [],
   "source": [
    "# замена вещественного типа данных на целочисленный в столбце с годом выпуска\n",
    "data['year_of_release'] = data['year_of_release'].astype('Int64')"
   ]
  },
  {
   "cell_type": "code",
   "execution_count": 109,
   "metadata": {},
   "outputs": [
    {
     "data": {
      "text/plain": [
       "tbd    2424\n",
       "7.8     324\n",
       "8       290\n",
       "8.2     282\n",
       "8.3     254\n",
       "       ... \n",
       "0.3       2\n",
       "0.7       2\n",
       "1         2\n",
       "9.7       1\n",
       "0         1\n",
       "Name: user_score, Length: 96, dtype: int64"
      ]
     },
     "execution_count": 109,
     "metadata": {},
     "output_type": "execute_result"
    }
   ],
   "source": [
    "# подсчет уникальных значений в столбце с пользовательскими оценками\n",
    "data['user_score'].value_counts()"
   ]
  },
  {
   "cell_type": "markdown",
   "metadata": {},
   "source": [
    "Столбец \"user score\" содержит значения tbd (to be determined, to be decided), целых 2 424 значения, что подразумевает, что оценка будет определена в будущем, и некорректно менять \"tbd\" на какое-либо иное значение ввиду ожидания актуальных оценок. Лучшим решением является замена этого значения на пропуск, как в более чем 6 тыс. значений этого столбца. "
   ]
  },
  {
   "cell_type": "code",
   "execution_count": 110,
   "metadata": {},
   "outputs": [],
   "source": [
    "# замена текстового типа данных на вещественный в столбце с пользовательскими оценками\n",
    "try:\n",
    "    data['user_score'] = data['user_score'].astype('float64')\n",
    "except:\n",
    "    data['user_score'] = data['user_score'].replace('tbd', 'NaN')\n",
    "else:\n",
    "    data['user_score'] = data['user_score'].astype('float64')\n",
    "finally:\n",
    "    data['user_score'] = data['user_score'].astype('float64')"
   ]
  },
  {
   "cell_type": "markdown",
   "metadata": {},
   "source": [
    "<div class=\"alert alert-block alert-success\">\n",
    "\n",
    "    \n",
    "### Комментарий от ревьюера v_1\n",
    "\n",
    "Молодец, tbd обработаны 👍🏻\n",
    "    \n",
    "</div>"
   ]
  },
  {
   "cell_type": "markdown",
   "metadata": {},
   "source": [
    " <div class=\"alert alert-info\" style=\"box-shadow: 4px 4px 4px\">\n",
    "<b>Комментарий студента:</b> Ниже дополнительный код для отработки задания по рейтингу\n",
    "<br>\n",
    "</div>"
   ]
  },
  {
   "cell_type": "code",
   "execution_count": 111,
   "metadata": {},
   "outputs": [],
   "source": [
    "# пропущенные значения в столбце с рейтингом заполнены значением \"unknown\"\n",
    "data['rating'] = data['rating'].fillna('unknown')"
   ]
  },
  {
   "cell_type": "code",
   "execution_count": 112,
   "metadata": {},
   "outputs": [
    {
     "data": {
      "text/html": [
       "<div>\n",
       "<style scoped>\n",
       "    .dataframe tbody tr th:only-of-type {\n",
       "        vertical-align: middle;\n",
       "    }\n",
       "\n",
       "    .dataframe tbody tr th {\n",
       "        vertical-align: top;\n",
       "    }\n",
       "\n",
       "    .dataframe thead th {\n",
       "        text-align: right;\n",
       "    }\n",
       "</style>\n",
       "<table border=\"1\" class=\"dataframe\">\n",
       "  <thead>\n",
       "    <tr style=\"text-align: right;\">\n",
       "      <th></th>\n",
       "      <th>name</th>\n",
       "      <th>platform</th>\n",
       "      <th>year_of_release</th>\n",
       "      <th>genre</th>\n",
       "      <th>NA_sales</th>\n",
       "      <th>EU_sales</th>\n",
       "      <th>JP_sales</th>\n",
       "      <th>other_sales</th>\n",
       "      <th>critic_score</th>\n",
       "      <th>user_score</th>\n",
       "      <th>rating</th>\n",
       "      <th>total_sales</th>\n",
       "    </tr>\n",
       "  </thead>\n",
       "  <tbody>\n",
       "    <tr>\n",
       "      <td>0</td>\n",
       "      <td>Wii Sports</td>\n",
       "      <td>Wii</td>\n",
       "      <td>2006</td>\n",
       "      <td>Sports</td>\n",
       "      <td>41.36</td>\n",
       "      <td>28.96</td>\n",
       "      <td>3.77</td>\n",
       "      <td>8.45</td>\n",
       "      <td>76.0</td>\n",
       "      <td>8.0</td>\n",
       "      <td>E</td>\n",
       "      <td>82.54</td>\n",
       "    </tr>\n",
       "    <tr>\n",
       "      <td>1</td>\n",
       "      <td>Super Mario Bros.</td>\n",
       "      <td>NES</td>\n",
       "      <td>1985</td>\n",
       "      <td>Platform</td>\n",
       "      <td>29.08</td>\n",
       "      <td>3.58</td>\n",
       "      <td>6.81</td>\n",
       "      <td>0.77</td>\n",
       "      <td>NaN</td>\n",
       "      <td>NaN</td>\n",
       "      <td>unknown</td>\n",
       "      <td>40.24</td>\n",
       "    </tr>\n",
       "    <tr>\n",
       "      <td>2</td>\n",
       "      <td>Mario Kart Wii</td>\n",
       "      <td>Wii</td>\n",
       "      <td>2008</td>\n",
       "      <td>Racing</td>\n",
       "      <td>15.68</td>\n",
       "      <td>12.76</td>\n",
       "      <td>3.79</td>\n",
       "      <td>3.29</td>\n",
       "      <td>82.0</td>\n",
       "      <td>8.3</td>\n",
       "      <td>E</td>\n",
       "      <td>35.52</td>\n",
       "    </tr>\n",
       "    <tr>\n",
       "      <td>3</td>\n",
       "      <td>Wii Sports Resort</td>\n",
       "      <td>Wii</td>\n",
       "      <td>2009</td>\n",
       "      <td>Sports</td>\n",
       "      <td>15.61</td>\n",
       "      <td>10.93</td>\n",
       "      <td>3.28</td>\n",
       "      <td>2.95</td>\n",
       "      <td>80.0</td>\n",
       "      <td>8.0</td>\n",
       "      <td>E</td>\n",
       "      <td>32.77</td>\n",
       "    </tr>\n",
       "    <tr>\n",
       "      <td>4</td>\n",
       "      <td>Pokemon Red/Pokemon Blue</td>\n",
       "      <td>GB</td>\n",
       "      <td>1996</td>\n",
       "      <td>Role-Playing</td>\n",
       "      <td>11.27</td>\n",
       "      <td>8.89</td>\n",
       "      <td>10.22</td>\n",
       "      <td>1.00</td>\n",
       "      <td>NaN</td>\n",
       "      <td>NaN</td>\n",
       "      <td>unknown</td>\n",
       "      <td>31.38</td>\n",
       "    </tr>\n",
       "  </tbody>\n",
       "</table>\n",
       "</div>"
      ],
      "text/plain": [
       "                       name platform  year_of_release         genre  NA_sales  \\\n",
       "0                Wii Sports      Wii             2006        Sports     41.36   \n",
       "1         Super Mario Bros.      NES             1985      Platform     29.08   \n",
       "2            Mario Kart Wii      Wii             2008        Racing     15.68   \n",
       "3         Wii Sports Resort      Wii             2009        Sports     15.61   \n",
       "4  Pokemon Red/Pokemon Blue       GB             1996  Role-Playing     11.27   \n",
       "\n",
       "   EU_sales  JP_sales  other_sales  critic_score  user_score   rating  \\\n",
       "0     28.96      3.77         8.45          76.0         8.0        E   \n",
       "1      3.58      6.81         0.77           NaN         NaN  unknown   \n",
       "2     12.76      3.79         3.29          82.0         8.3        E   \n",
       "3     10.93      3.28         2.95          80.0         8.0        E   \n",
       "4      8.89     10.22         1.00           NaN         NaN  unknown   \n",
       "\n",
       "   total_sales  \n",
       "0        82.54  \n",
       "1        40.24  \n",
       "2        35.52  \n",
       "3        32.77  \n",
       "4        31.38  "
      ]
     },
     "execution_count": 112,
     "metadata": {},
     "output_type": "execute_result"
    }
   ],
   "source": [
    "# добавление в таблицу столбца с общими продажами по всем регионам\n",
    "# вывод первых строк таблицы\n",
    "data['total_sales'] = data['NA_sales'] + data['EU_sales'] + data['JP_sales'] + data['other_sales']\n",
    "data.head()"
   ]
  },
  {
   "cell_type": "markdown",
   "metadata": {},
   "source": [
    "Данный этап позволил реализовать замену в названиях столбцов для поддержания хорошего стиля и замену типов данных с целью анализа влияния пользовательских оценок на продажи. Продажи игр будут рассматриваться как в совокупном объеме, так и в разрезе регионов, для чего и был добавлен новый столбец в анализируемую таблицу.  "
   ]
  },
  {
   "cell_type": "markdown",
   "metadata": {},
   "source": [
    "<div class=\"alert alert-block alert-success\">\n",
    "\n",
    "    \n",
    "### Комментарий от ревьюера v_1\n",
    "\n",
    "Отлично\n",
    "    \n",
    "Отличная предобработка 👍🏻\n",
    "    \n",
    "</div>"
   ]
  },
  {
   "cell_type": "markdown",
   "metadata": {},
   "source": [
    "## Исследовательский анализ данных"
   ]
  },
  {
   "cell_type": "markdown",
   "metadata": {},
   "source": [
    "<div class=\"alert alert-block alert-warning\">\n",
    "    \n",
    "\n",
    "### Комментарий от ревьюера v_1\n",
    "Рекомендация\n",
    "\n",
    "В начале шага рекомендую написать перечень действий, который планируешь выполнить. Так ты ничего не упустишь и добавишь проекту структуры \n",
    "</div>"
   ]
  },
  {
   "cell_type": "markdown",
   "metadata": {},
   "source": [
    " <div class=\"alert alert-info\" style=\"box-shadow: 4px 4px 4px\">\n",
    "<b>Комментарий студента:</b> Done\n",
    "<br>\n",
    "</div>"
   ]
  },
  {
   "cell_type": "markdown",
   "metadata": {},
   "source": [
    "В связи с обширным объемом предоставленных данных в несколько тысяч игр следующий шаг исследования будет включать следующие пункты:\n",
    "- изучение динамики продаж по годам, в том числе на крупнейших платформах,\n",
    "- динамика продаж на крупнейших платформах **актуального периода**,\n",
    "- изучение влияния оценок пользователей и критиков на продажи игр,\n",
    "- изучение общего распределения игр по жанрам"
   ]
  },
  {
   "cell_type": "markdown",
   "metadata": {},
   "source": [
    "### Динамика продаж и наиболее популярные платформы"
   ]
  },
  {
   "cell_type": "code",
   "execution_count": 113,
   "metadata": {},
   "outputs": [
    {
     "data": {
      "text/plain": [
       "year_of_release\n",
       "1980       9\n",
       "1981      46\n",
       "1982      36\n",
       "1983      17\n",
       "1984      14\n",
       "1985      14\n",
       "1986      21\n",
       "1987      16\n",
       "1988      15\n",
       "1989      17\n",
       "1990      16\n",
       "1991      41\n",
       "1992      43\n",
       "1993      60\n",
       "1994     121\n",
       "1995     219\n",
       "1996     263\n",
       "1997     289\n",
       "1998     379\n",
       "1999     338\n",
       "2000     350\n",
       "2001     482\n",
       "2002     829\n",
       "2003     775\n",
       "2004     762\n",
       "2005     939\n",
       "2006    1006\n",
       "2007    1197\n",
       "2008    1427\n",
       "2009    1426\n",
       "2010    1255\n",
       "2011    1136\n",
       "2012     653\n",
       "2013     544\n",
       "2014     581\n",
       "2015     606\n",
       "2016     502\n",
       "Name: name, dtype: int64"
      ]
     },
     "execution_count": 113,
     "metadata": {},
     "output_type": "execute_result"
    }
   ],
   "source": [
    "# группировка данных по годам\n",
    "data.groupby('year_of_release')['name'].agg('count')"
   ]
  },
  {
   "cell_type": "code",
   "execution_count": 114,
   "metadata": {},
   "outputs": [
    {
     "data": {
      "image/png": "[encoded data removed]",
      "text/plain": [
       "<Figure size 1440x720 with 1 Axes>"
      ]
     },
     "metadata": {
      "needs_background": "light"
     },
     "output_type": "display_data"
    }
   ],
   "source": [
    "# динамика продаж\n",
    "data_trend = data.groupby('year_of_release')['total_sales'].agg('sum')\n",
    "data_trend.plot(x='year_of_release', y='total_sales', style='-', figsize = (20, 10), grid=True)\n",
    "plt.title('Общая динамика продаж')\n",
    "plt.ylabel('total_sales')\n",
    "plt.show()"
   ]
  },
  {
   "cell_type": "markdown",
   "metadata": {},
   "source": [
    "1. Анализ данных охватывает 36 лет, при этом вплоть до 2008 г. наблюдалась динамика роста по выпуску игр, когда было выпущено максимально 1 427 игр. Начиная с 2009 г. количество выпускаемых игр пошло постепенно на убыль до 502 игр в 2016 г., однако, можно предположить, что цифра будет увеличена, так как данные за 2016 г. неполные. \n",
    "2. Для построения прогноза на 2017 г. совершенно не важны данные 30-летней давности, учитывая также, что выпуск игр был в десятки раз меньше в 80х годах, нежели в 2010х. \n",
    "3. Что касается динамики продаж, то она коррелирует с количеством выпущенных игр в разные годы, достигнув максимума в 2008 г., затем снизившись к 2016 г. до чуть более 100 млн. проданных копий. "
   ]
  },
  {
   "cell_type": "markdown",
   "metadata": {},
   "source": [
    "<div class=\"alert alert-block alert-warning\">\n",
    "    \n",
    "\n",
    "### Комментарий от ревьюера v_1\n",
    "Рекомендация\n",
    "\n",
    "Не пиши выводы сплошным текстом, структурируй свои мысли:\n",
    "    \n",
    "1.\n",
    "    \n",
    "2.\n",
    "    \n",
    "3.\n",
    "    \n",
    "Всегда, оформляя проект, держи в голове, что тебе придется возвращаться к работе над ним спустя какое-то время. Если он будет структурировано оформлен, ты будешь тратить гораздо времени на то, чтобы снова вникнуть в него\n",
    "</div>"
   ]
  },
  {
   "cell_type": "markdown",
   "metadata": {},
   "source": [
    " <div class=\"alert alert-info\" style=\"box-shadow: 4px 4px 4px\">\n",
    "<b>Комментарий студента:</b> Ничего, что я свой вывод просто раскидала по цифрам \"один-два-три\"?  😬\n",
    "<br>\n",
    "</div>"
   ]
  },
  {
   "cell_type": "code",
   "execution_count": 115,
   "metadata": {},
   "outputs": [
    {
     "data": {
      "text/plain": [
       "platform\n",
       "PS2     1255.77\n",
       "X360     971.42\n",
       "PS3      939.65\n",
       "Wii      907.51\n",
       "DS       806.12\n",
       "PS       730.86\n",
       "GBA      317.85\n",
       "PS4      314.14\n",
       "PSP      294.05\n",
       "PC       259.52\n",
       "3DS      259.00\n",
       "XB       257.74\n",
       "GB       255.46\n",
       "NES      251.05\n",
       "N64      218.68\n",
       "SNES     200.04\n",
       "GC       198.93\n",
       "XOne     159.32\n",
       "2600      96.98\n",
       "WiiU      82.19\n",
       "PSV       54.07\n",
       "SAT       33.59\n",
       "GEN       30.77\n",
       "DC        15.95\n",
       "SCD        1.86\n",
       "NG         1.44\n",
       "WS         1.42\n",
       "TG16       0.16\n",
       "3DO        0.10\n",
       "GG         0.04\n",
       "PCFX       0.03\n",
       "Name: total_sales, dtype: float64"
      ]
     },
     "execution_count": 115,
     "metadata": {},
     "output_type": "execute_result"
    }
   ],
   "source": [
    "# группировка данных по платформам для подсчета объема продаж, соответствующего платформе\n",
    "data.groupby('platform')['total_sales'].agg('sum').sort_values(ascending=False)"
   ]
  },
  {
   "cell_type": "markdown",
   "metadata": {},
   "source": [
    "Пять наиболее популярных платформ демонстрируют продажу более 800 млн. копий, наиболее популярной платформой за более чем 35летний период являлась платформа PS2 с 1 255 млн. копий, в то время как платформа PCFX практически не распространена среди геймеров, с нее было продано всего лишь 0.03 млн. копий. Рассмотрим детальнее продажи на популярных платформах."
   ]
  },
  {
   "cell_type": "markdown",
   "metadata": {},
   "source": [
    " <div class=\"alert alert-info\" style=\"box-shadow: 4px 4px 4px\">\n",
    "<b>Комментарий студента:</b> У меня был соблазн удалить все свои \"бары\", но ты похвалил корректность графиков и выводов в целом, поэтому я свои ухищрения оставила, да и на будущее в том числе, и просто собрала все в один, линейный, как ты предложил. DS, канеш, жуткая 🤭 \n",
    "<br>\n",
    "</div>"
   ]
  },
  {
   "cell_type": "code",
   "execution_count": 116,
   "metadata": {},
   "outputs": [
    {
     "data": {
      "image/png": "[encoded data removed]",
      "text/plain": [
       "<Figure size 1440x720 with 1 Axes>"
      ]
     },
     "metadata": {
      "needs_background": "light"
     },
     "output_type": "display_data"
    }
   ],
   "source": [
    "# динамика продаж на 5 крупнейших платформах и построение соответствующего графика\n",
    "data_PS2 = data[data['platform'] == 'PS2'].groupby('year_of_release')['total_sales'].agg('sum')\n",
    "data_PS2.plot(x='total_sales', y='year_of_release', style='-', figsize = (20, 10), label='PS2', grid=True)\n",
    "data_X360 = data[data['platform'] == 'X360'].groupby('year_of_release')['total_sales'].agg('sum')\n",
    "data_X360.plot(x='total_sales', y='year_of_release', style='-', figsize = (20, 10), label='X360', grid=True)\n",
    "data_PS3 = data[data['platform'] == 'PS3'].groupby('year_of_release')['total_sales'].agg('sum')\n",
    "data_PS3.plot(x='total_sales', y='year_of_release', style='-', figsize = (20, 10), label='PS3', grid=True)\n",
    "data_Wii = data[data['platform'] == 'Wii'].groupby('year_of_release')['total_sales'].agg('sum')\n",
    "data_Wii.plot(x='total_sales', y='year_of_release', style='-', figsize = (20, 10), label='Wii', grid=True)\n",
    "data_DS = data[data['platform'] == 'DS'].groupby('year_of_release')['total_sales'].agg('sum')\n",
    "data_DS.plot(x='total_sales', y='year_of_release', style='-', figsize = (20, 10), label='DS', grid=True)\n",
    "plt.title('Динамика продаж на крупнейших платформах')\n",
    "plt.ylabel('total_sales')\n",
    "plt.legend()\n",
    "plt.show()\n"
   ]
  },
  {
   "cell_type": "code",
   "execution_count": 117,
   "metadata": {},
   "outputs": [
    {
     "data": {
      "image/png": "[encoded data removed]",
      "text/plain": [
       "<Figure size 720x360 with 1 Axes>"
      ]
     },
     "metadata": {
      "needs_background": "light"
     },
     "output_type": "display_data"
    }
   ],
   "source": [
    "# динамика продаж на платформе PS2 (1255.77 млн.копий)\n",
    "data_PS2 = data[data['platform'] == 'PS2'].groupby('year_of_release')['total_sales'].agg('sum')\n",
    "data_PS2.plot(x='total_sales', y='year_of_release', kind='bar', figsize=(10, 5), alpha=0.5)\n",
    "plt.title('Динамика продаж на платформе PS2')\n",
    "plt.ylabel('total_sales')\n",
    "plt.show()\n"
   ]
  },
  {
   "cell_type": "code",
   "execution_count": 118,
   "metadata": {},
   "outputs": [
    {
     "data": {
      "image/png": "[encoded data removed]",
      "text/plain": [
       "<Figure size 720x360 with 1 Axes>"
      ]
     },
     "metadata": {
      "needs_background": "light"
     },
     "output_type": "display_data"
    }
   ],
   "source": [
    "# динамика продаж на платформе X360 (971.42 млн.копий)\n",
    "data_X360 = data[data['platform'] == 'X360'].groupby('year_of_release')['total_sales'].agg('sum')\n",
    "data_X360.plot(x='total_sales', y='year_of_release', kind='bar', figsize=(10, 5), alpha=0.5)\n",
    "plt.title('Динамика продаж на платформе X360')\n",
    "plt.ylabel('total_sales')\n",
    "plt.show()"
   ]
  },
  {
   "cell_type": "code",
   "execution_count": 119,
   "metadata": {},
   "outputs": [
    {
     "data": {
      "image/png": "[encoded data removed]",
      "text/plain": [
       "<Figure size 720x360 with 1 Axes>"
      ]
     },
     "metadata": {
      "needs_background": "light"
     },
     "output_type": "display_data"
    }
   ],
   "source": [
    "# динамика продаж на платформе PS3 (939.65 млн.копий)\n",
    "data_PS3 = data[data['platform'] == 'PS3'].groupby('year_of_release')['total_sales'].agg('sum')\n",
    "data_PS3.plot(x='total_sales', y='year_of_release', kind='bar', figsize=(10, 5), alpha=0.5)\n",
    "plt.title('Динамика продаж на платформе PS3')\n",
    "plt.ylabel('total_sales')\n",
    "plt.show()"
   ]
  },
  {
   "cell_type": "code",
   "execution_count": 120,
   "metadata": {},
   "outputs": [
    {
     "data": {
      "image/png": "[encoded data removed]",
      "text/plain": [
       "<Figure size 720x360 with 1 Axes>"
      ]
     },
     "metadata": {
      "needs_background": "light"
     },
     "output_type": "display_data"
    }
   ],
   "source": [
    "# динамика продаж на платформе Wii (907.51 млн.копий)\n",
    "data_Wii = data[data['platform'] == 'Wii'].groupby('year_of_release')['total_sales'].agg('sum')\n",
    "data_Wii.plot(x='total_sales', y='year_of_release', kind='bar', figsize=(10, 5), alpha=0.5)\n",
    "plt.title('Динамика продаж на платформе Wii')\n",
    "plt.ylabel('total_sales')\n",
    "plt.show()"
   ]
  },
  {
   "cell_type": "code",
   "execution_count": 121,
   "metadata": {},
   "outputs": [
    {
     "data": {
      "image/png": "[encoded data removed]",
      "text/plain": [
       "<Figure size 720x360 with 1 Axes>"
      ]
     },
     "metadata": {
      "needs_background": "light"
     },
     "output_type": "display_data"
    }
   ],
   "source": [
    "# динамика продаж на платформе DS (806.12 млн.копий)\n",
    "data_DS = data[data['platform'] == 'DS'].groupby('year_of_release')['total_sales'].agg('sum')\n",
    "data_DS.plot(x='total_sales', y='year_of_release', kind='bar', figsize=(10, 5), alpha=0.5)\n",
    "plt.title('Динамика продаж на платформе DS')\n",
    "plt.ylabel('total_sales')\n",
    "plt.show()"
   ]
  },
  {
   "cell_type": "markdown",
   "metadata": {},
   "source": [
    "Платформы живут в среднем 10 лет до полного исчезновения, однако, платформа DS стала исключением, просуществовав порядка 30 лет. Продажи растут на платформах в течение 5 лет, после чего наступает значительное ухудшение, которое приводит к катастрофическому снижению продаваемых копий на платформах через следующие 5 лет.  "
   ]
  },
  {
   "cell_type": "markdown",
   "metadata": {},
   "source": [
    "<div class=\"alert alert-block alert-success\">\n",
    "\n",
    "    \n",
    "### Комментарий от ревьюера v_1\n",
    "Отлично\n",
    "\n",
    "Графики наглядные и выводы по ним верные\n",
    "    \n",
    "Но, чтобы не рассматривать несколько графиков, лучше поместить все распределение в одну визуализацию, использовав линейный график\n",
    "    \n",
    "</div>"
   ]
  },
  {
   "cell_type": "markdown",
   "metadata": {},
   "source": [
    "### Продажи на актуальных, лидирующих платформах"
   ]
  },
  {
   "cell_type": "markdown",
   "metadata": {},
   "source": [
    "Так как данные об играх представлены с 1980-го по 2016-й год, а анализ популярных платформ и жанров требуется для рекламной кампании 2017 г., то наиболее подходящим периодом для анализа является 2016-й год, в рамках которого будут рассмотрены продажи на потенциально прибыльных платформах. Срез данных включает чуть более 500 значений.   "
   ]
  },
  {
   "cell_type": "markdown",
   "metadata": {},
   "source": [
    "<div class=\"alert alert-block alert-danger\">\n",
    "    \n",
    "\n",
    "### Комментарий от ревьюера v_1\n",
    "Критично\n",
    "\n",
    "Молодец, что ты не пытаешься взять большой период, это верно. Но брать только 2016 год ошибочно, потому что по условию за этого год данные неполные, ориентироваться в прогнозах на частичной информации нельзя. Добавь еще 2015 год и все будет ОК\n",
    "</div>"
   ]
  },
  {
   "cell_type": "markdown",
   "metadata": {},
   "source": [
    " <div class=\"alert alert-info\" style=\"box-shadow: 4px 4px 4px\">\n",
    "<b>Комментарий студента:</b> Учла\n",
    "<br>\n",
    "</div>"
   ]
  },
  {
   "cell_type": "code",
   "execution_count": 122,
   "metadata": {},
   "outputs": [
    {
     "name": "stdout",
     "output_type": "stream",
     "text": [
      "<class 'pandas.core.frame.DataFrame'>\n",
      "Int64Index: 1108 entries, 31 to 16714\n",
      "Data columns (total 12 columns):\n",
      "name               1108 non-null object\n",
      "platform           1108 non-null object\n",
      "year_of_release    1108 non-null Int64\n",
      "genre              1108 non-null object\n",
      "NA_sales           1108 non-null float64\n",
      "EU_sales           1108 non-null float64\n",
      "JP_sales           1108 non-null float64\n",
      "other_sales        1108 non-null float64\n",
      "critic_score       457 non-null float64\n",
      "user_score         559 non-null float64\n",
      "rating             1108 non-null object\n",
      "total_sales        1108 non-null float64\n",
      "dtypes: Int64(1), float64(7), object(4)\n",
      "memory usage: 113.6+ KB\n"
     ]
    }
   ],
   "source": [
    "# срез данных за актуальный период и получение общей информации о данных в таблице\n",
    "current_data = data[data['year_of_release'] >= 2015]\n",
    "current_data.info()"
   ]
  },
  {
   "cell_type": "code",
   "execution_count": 123,
   "metadata": {},
   "outputs": [
    {
     "data": {
      "text/html": [
       "<div>\n",
       "<style scoped>\n",
       "    .dataframe tbody tr th:only-of-type {\n",
       "        vertical-align: middle;\n",
       "    }\n",
       "\n",
       "    .dataframe tbody tr th {\n",
       "        vertical-align: top;\n",
       "    }\n",
       "\n",
       "    .dataframe thead th {\n",
       "        text-align: right;\n",
       "    }\n",
       "</style>\n",
       "<table border=\"1\" class=\"dataframe\">\n",
       "  <thead>\n",
       "    <tr style=\"text-align: right;\">\n",
       "      <th></th>\n",
       "      <th>name</th>\n",
       "      <th>platform</th>\n",
       "      <th>year_of_release</th>\n",
       "      <th>genre</th>\n",
       "      <th>NA_sales</th>\n",
       "      <th>EU_sales</th>\n",
       "      <th>JP_sales</th>\n",
       "      <th>other_sales</th>\n",
       "      <th>critic_score</th>\n",
       "      <th>user_score</th>\n",
       "      <th>rating</th>\n",
       "      <th>total_sales</th>\n",
       "    </tr>\n",
       "  </thead>\n",
       "  <tbody>\n",
       "    <tr>\n",
       "      <td>31</td>\n",
       "      <td>Call of Duty: Black Ops 3</td>\n",
       "      <td>PS4</td>\n",
       "      <td>2015</td>\n",
       "      <td>Shooter</td>\n",
       "      <td>6.03</td>\n",
       "      <td>5.86</td>\n",
       "      <td>0.36</td>\n",
       "      <td>2.38</td>\n",
       "      <td>NaN</td>\n",
       "      <td>NaN</td>\n",
       "      <td>unknown</td>\n",
       "      <td>14.63</td>\n",
       "    </tr>\n",
       "    <tr>\n",
       "      <td>77</td>\n",
       "      <td>FIFA 16</td>\n",
       "      <td>PS4</td>\n",
       "      <td>2015</td>\n",
       "      <td>Sports</td>\n",
       "      <td>1.12</td>\n",
       "      <td>6.12</td>\n",
       "      <td>0.06</td>\n",
       "      <td>1.28</td>\n",
       "      <td>82.0</td>\n",
       "      <td>4.3</td>\n",
       "      <td>E</td>\n",
       "      <td>8.58</td>\n",
       "    </tr>\n",
       "    <tr>\n",
       "      <td>87</td>\n",
       "      <td>Star Wars Battlefront (2015)</td>\n",
       "      <td>PS4</td>\n",
       "      <td>2015</td>\n",
       "      <td>Shooter</td>\n",
       "      <td>2.99</td>\n",
       "      <td>3.49</td>\n",
       "      <td>0.22</td>\n",
       "      <td>1.28</td>\n",
       "      <td>NaN</td>\n",
       "      <td>NaN</td>\n",
       "      <td>unknown</td>\n",
       "      <td>7.98</td>\n",
       "    </tr>\n",
       "    <tr>\n",
       "      <td>94</td>\n",
       "      <td>FIFA 17</td>\n",
       "      <td>PS4</td>\n",
       "      <td>2016</td>\n",
       "      <td>Sports</td>\n",
       "      <td>0.66</td>\n",
       "      <td>5.75</td>\n",
       "      <td>0.08</td>\n",
       "      <td>1.11</td>\n",
       "      <td>85.0</td>\n",
       "      <td>5.0</td>\n",
       "      <td>E</td>\n",
       "      <td>7.60</td>\n",
       "    </tr>\n",
       "    <tr>\n",
       "      <td>99</td>\n",
       "      <td>Call of Duty: Black Ops 3</td>\n",
       "      <td>XOne</td>\n",
       "      <td>2015</td>\n",
       "      <td>Shooter</td>\n",
       "      <td>4.59</td>\n",
       "      <td>2.11</td>\n",
       "      <td>0.01</td>\n",
       "      <td>0.68</td>\n",
       "      <td>NaN</td>\n",
       "      <td>NaN</td>\n",
       "      <td>unknown</td>\n",
       "      <td>7.39</td>\n",
       "    </tr>\n",
       "  </tbody>\n",
       "</table>\n",
       "</div>"
      ],
      "text/plain": [
       "                            name platform  year_of_release    genre  NA_sales  \\\n",
       "31     Call of Duty: Black Ops 3      PS4             2015  Shooter      6.03   \n",
       "77                       FIFA 16      PS4             2015   Sports      1.12   \n",
       "87  Star Wars Battlefront (2015)      PS4             2015  Shooter      2.99   \n",
       "94                       FIFA 17      PS4             2016   Sports      0.66   \n",
       "99     Call of Duty: Black Ops 3     XOne             2015  Shooter      4.59   \n",
       "\n",
       "    EU_sales  JP_sales  other_sales  critic_score  user_score   rating  \\\n",
       "31      5.86      0.36         2.38           NaN         NaN  unknown   \n",
       "77      6.12      0.06         1.28          82.0         4.3        E   \n",
       "87      3.49      0.22         1.28           NaN         NaN  unknown   \n",
       "94      5.75      0.08         1.11          85.0         5.0        E   \n",
       "99      2.11      0.01         0.68           NaN         NaN  unknown   \n",
       "\n",
       "    total_sales  \n",
       "31        14.63  \n",
       "77         8.58  \n",
       "87         7.98  \n",
       "94         7.60  \n",
       "99         7.39  "
      ]
     },
     "execution_count": 123,
     "metadata": {},
     "output_type": "execute_result"
    }
   ],
   "source": [
    "# получение первых 5 строк таблицы \n",
    "current_data.head()"
   ]
  },
  {
   "cell_type": "code",
   "execution_count": 124,
   "metadata": {},
   "outputs": [
    {
     "data": {
      "text/html": [
       "<div>\n",
       "<style scoped>\n",
       "    .dataframe tbody tr th:only-of-type {\n",
       "        vertical-align: middle;\n",
       "    }\n",
       "\n",
       "    .dataframe tbody tr th {\n",
       "        vertical-align: top;\n",
       "    }\n",
       "\n",
       "    .dataframe thead th {\n",
       "        text-align: right;\n",
       "    }\n",
       "</style>\n",
       "<table border=\"1\" class=\"dataframe\">\n",
       "  <thead>\n",
       "    <tr style=\"text-align: right;\">\n",
       "      <th></th>\n",
       "      <th>platform</th>\n",
       "      <th>games_count</th>\n",
       "      <th>games_sales</th>\n",
       "    </tr>\n",
       "  </thead>\n",
       "  <tbody>\n",
       "    <tr>\n",
       "      <td>0</td>\n",
       "      <td>PS4</td>\n",
       "      <td>164</td>\n",
       "      <td>69.25</td>\n",
       "    </tr>\n",
       "    <tr>\n",
       "      <td>1</td>\n",
       "      <td>XOne</td>\n",
       "      <td>87</td>\n",
       "      <td>26.15</td>\n",
       "    </tr>\n",
       "    <tr>\n",
       "      <td>2</td>\n",
       "      <td>3DS</td>\n",
       "      <td>46</td>\n",
       "      <td>15.14</td>\n",
       "    </tr>\n",
       "    <tr>\n",
       "      <td>3</td>\n",
       "      <td>PC</td>\n",
       "      <td>54</td>\n",
       "      <td>5.25</td>\n",
       "    </tr>\n",
       "    <tr>\n",
       "      <td>4</td>\n",
       "      <td>WiiU</td>\n",
       "      <td>14</td>\n",
       "      <td>4.60</td>\n",
       "    </tr>\n",
       "    <tr>\n",
       "      <td>5</td>\n",
       "      <td>PSV</td>\n",
       "      <td>85</td>\n",
       "      <td>4.25</td>\n",
       "    </tr>\n",
       "    <tr>\n",
       "      <td>6</td>\n",
       "      <td>PS3</td>\n",
       "      <td>38</td>\n",
       "      <td>3.60</td>\n",
       "    </tr>\n",
       "    <tr>\n",
       "      <td>7</td>\n",
       "      <td>X360</td>\n",
       "      <td>13</td>\n",
       "      <td>1.52</td>\n",
       "    </tr>\n",
       "    <tr>\n",
       "      <td>8</td>\n",
       "      <td>Wii</td>\n",
       "      <td>1</td>\n",
       "      <td>0.18</td>\n",
       "    </tr>\n",
       "  </tbody>\n",
       "</table>\n",
       "</div>"
      ],
      "text/plain": [
       "  platform  games_count  games_sales\n",
       "0      PS4          164        69.25\n",
       "1     XOne           87        26.15\n",
       "2      3DS           46        15.14\n",
       "3       PC           54         5.25\n",
       "4     WiiU           14         4.60\n",
       "5      PSV           85         4.25\n",
       "6      PS3           38         3.60\n",
       "7     X360           13         1.52\n",
       "8      Wii            1         0.18"
      ]
     },
     "metadata": {},
     "output_type": "display_data"
    }
   ],
   "source": [
    "# подсчет выпущенных игр и продаж в разрезе каждой платформы\n",
    "current_data_sales = data[data['year_of_release'] == 2016].groupby(['platform']).agg(games_count=('name','count'), games_sales=('total_sales','sum')).sort_values(by='games_sales', ascending=False).reset_index()\n",
    "display(current_data_sales)"
   ]
  },
  {
   "cell_type": "markdown",
   "metadata": {},
   "source": [
    "Наиболее популярными платформами в 2015-2016 г. были платформы PS4 (69.25 млн. копий) - 8 популярная платформа в совокупности, XOne (26.15 млн. копий) и 3DS (15.14 млн. копий). Следующая по популярности платформа PC отставала от 3DS уже на чуть менее 10 млн. копий. Следует рассмотреть, какая динамика продаж наблюдалась на этих платформах.\t"
   ]
  },
  {
   "cell_type": "markdown",
   "metadata": {},
   "source": [
    "<div class=\"alert alert-block alert-warning\">\n",
    "    \n",
    "\n",
    "### Комментарий от ревьюера v_1\n",
    "Рекомендация\n",
    "\n",
    "Такие данные следует выводить отсортированными, выводы так делаеть гораздо проще и удобнее\n",
    "</div>"
   ]
  },
  {
   "cell_type": "markdown",
   "metadata": {},
   "source": [
    " <div class=\"alert alert-info\" style=\"box-shadow: 4px 4px 4px\">\n",
    "<b>Комментарий студента:</b> Учла выше. Максим, я хотела графики ниже тоже собрать в один линейный, потом передумала из-за 30-летней РС. Пусть так, окей?\n",
    "<br>\n",
    "</div>"
   ]
  },
  {
   "cell_type": "code",
   "execution_count": 125,
   "metadata": {},
   "outputs": [
    {
     "data": {
      "image/png": "[encoded data removed]",
      "text/plain": [
       "<Figure size 720x360 with 1 Axes>"
      ]
     },
     "metadata": {
      "needs_background": "light"
     },
     "output_type": "display_data"
    }
   ],
   "source": [
    "# динамика продаж на платформе PS4 (314.14 млн.копий)\n",
    "data_PS4 = data[data['platform'] == 'PS4'].groupby('year_of_release')['total_sales'].agg('sum')\n",
    "data_PS4.plot(x='total_sales', y='year_of_release', kind='bar', figsize=(10, 5), alpha=0.5)\n",
    "plt.title('Динамика продаж на платформе PS4')\n",
    "plt.ylabel('total_sales')\n",
    "plt.show()"
   ]
  },
  {
   "cell_type": "code",
   "execution_count": 126,
   "metadata": {},
   "outputs": [
    {
     "data": {
      "image/png": "[encoded data removed]",
      "text/plain": [
       "<Figure size 720x360 with 1 Axes>"
      ]
     },
     "metadata": {
      "needs_background": "light"
     },
     "output_type": "display_data"
    }
   ],
   "source": [
    "# динамика продаж на платформе XOne (159.32 млн.копий)\n",
    "data_XOne = data[data['platform'] == 'XOne'].groupby('year_of_release')['total_sales'].agg('sum')\n",
    "data_XOne.plot(x='total_sales', y='year_of_release', kind='bar', figsize=(10, 5), alpha=0.5)\n",
    "plt.title('Динамика продаж на платформе XOne')\n",
    "plt.ylabel('total_sales')\n",
    "plt.show()"
   ]
  },
  {
   "cell_type": "code",
   "execution_count": 127,
   "metadata": {},
   "outputs": [
    {
     "data": {
      "image/png": "[encoded data removed]",
      "text/plain": [
       "<Figure size 720x360 with 1 Axes>"
      ]
     },
     "metadata": {
      "needs_background": "light"
     },
     "output_type": "display_data"
    }
   ],
   "source": [
    "# динамика продаж на платформе 3DS (259.00 млн.копий)\n",
    "data_3DS = data[data['platform'] == '3DS'].groupby('year_of_release')['total_sales'].agg('sum')\n",
    "data_3DS.plot(x='total_sales', y='year_of_release', kind='bar', figsize=(10, 5), alpha=0.5)\n",
    "plt.title('Динамика продаж на платформе 3DS')\n",
    "plt.ylabel('total_sales')\n",
    "plt.show()"
   ]
  },
  {
   "cell_type": "code",
   "execution_count": 128,
   "metadata": {},
   "outputs": [
    {
     "data": {
      "image/png": "[encoded data removed]",
      "text/plain": [
       "<Figure size 720x360 with 1 Axes>"
      ]
     },
     "metadata": {
      "needs_background": "light"
     },
     "output_type": "display_data"
    }
   ],
   "source": [
    "# динамика продаж на платформе PC (259.52 млн.копий)\n",
    "data_PC = data[data['platform'] == 'PC'].groupby('year_of_release')['total_sales'].agg('sum')\n",
    "data_PC.plot(x='total_sales', y='year_of_release', kind='bar', figsize=(10, 5), alpha=0.5)\n",
    "plt.title('Динамика продаж на платформе PC')\n",
    "plt.ylabel('total_sales')\n",
    "plt.show()"
   ]
  },
  {
   "cell_type": "markdown",
   "metadata": {},
   "source": [
    "Учитывая, что данные за 2016 г. неполные, можно смело считать платформы PS4 и XOne перспективными, так как в предыдущие три года наблюдалась тенденция к росту продаж. Платформа 3DS показала чуть более 15 млн. копий, но с момента появления в 2011 г. продажи заметно падали из года в год, не считая 2013 г. Платформа PC существовала и на момент выгрузки данных, однако, пик популярности прошел более 5 лет назад.  "
   ]
  },
  {
   "cell_type": "code",
   "execution_count": 129,
   "metadata": {},
   "outputs": [
    {
     "name": "stderr",
     "output_type": "stream",
     "text": [
      "/opt/conda/lib/python3.7/site-packages/numpy/core/_asarray.py:83: VisibleDeprecationWarning: Creating an ndarray from ragged nested sequences (which is a list-or-tuple of lists-or-tuples-or ndarrays with different lengths or shapes) is deprecated. If you meant to do this, you must specify 'dtype=object' when creating the ndarray\n",
      "  return array(a, dtype, copy=False, order=order)\n"
     ]
    },
    {
     "data": {
      "image/png": "[encoded data removed]",
      "text/plain": [
       "<Figure size 432x288 with 1 Axes>"
      ]
     },
     "metadata": {
      "needs_background": "light"
     },
     "output_type": "display_data"
    }
   ],
   "source": [
    "# построение графика «ящик с усами» по глобальным продажам игр в разбивке по платформам\n",
    "current_data.boxplot(by='platform', column = 'total_sales')\n",
    "plt.ylim(0, 1)\n",
    "plt.show()"
   ]
  },
  {
   "cell_type": "markdown",
   "metadata": {},
   "source": [
    "1. Несмотря на то, что в 2016 г. существовали платформы с общими продажами копий, исчисляемыми в десятках миллионах копий, продажи на платформах в разбивке по играм в основном концентрируются в пределах 1 млн. копий. \n",
    "2. По наиболее перспективной платформе PS4 - 75% значений приходится на продажи до 0.4 млн. копий, при этом второй квартиль содержит достаточное количество значений, и у этой платформы сравнительно много выбросов  с другими платформами, что демонстрирует ее прибыльность. \n",
    "3. Платформа Wii имеет наихудшие показатели, что исключает какую-либо возможность построения \"ящика\". \n",
    "4. Платформа XOne наряду с платформой PS4 имеет широкий третий квартиль и существенные выбросы, которые подтверждают высокие продажи. \n",
    "5. Продажи каждой игры на платформе PSV не превышают 0.3 млн. копий, и это значение согласно графику считается выбросом, в то время как медианные значения менее 0.1 млн. копий.   \n",
    "6. Самые высокие медианные продажи на платформе WiiU, превышающие отметку в 0.2 млн. копий, при этом у этой платформы как и платформы XOne существенные выбросы, которые располагаются за пределами концентрируемого значения в 1 млн. копий."
   ]
  },
  {
   "cell_type": "markdown",
   "metadata": {},
   "source": [
    "<div class=\"alert alert-block alert-warning\">\n",
    "    \n",
    "\n",
    "### Комментарий от ревьюера v_1\n",
    "Рекомендация\n",
    "\n",
    "Боксплоты отличные, но в выводе ты не отдаешь никакого внимания платформе с самыми высокими медианными продажами - WiiU\n",
    "</div>"
   ]
  },
  {
   "cell_type": "markdown",
   "metadata": {},
   "source": [
    " <div class=\"alert alert-info\" style=\"box-shadow: 4px 4px 4px\">\n",
    "<b>Комментарий студента:</b> Все по цифрам, как ты учишь, и я скопипастила твою подсказку 🤪\n",
    "<br>\n",
    "</div>"
   ]
  },
  {
   "cell_type": "markdown",
   "metadata": {},
   "source": [
    "### Влияние пользовательских оценок и оценок критиков на продажи "
   ]
  },
  {
   "cell_type": "code",
   "execution_count": 130,
   "metadata": {},
   "outputs": [
    {
     "data": {
      "image/png": "[encoded data removed]",
      "text/plain": [
       "<Figure size 432x288 with 1 Axes>"
      ]
     },
     "metadata": {
      "needs_background": "light"
     },
     "output_type": "display_data"
    }
   ],
   "source": [
    "# диаграмма, демонстрирующая влияние оценок критиков на продажи платформы PS4\n",
    "current_data[current_data['platform'] == 'PS4'].plot(x='critic_score', y='total_sales', kind='scatter')\n",
    "plt.show()"
   ]
  },
  {
   "cell_type": "code",
   "execution_count": 131,
   "metadata": {},
   "outputs": [
    {
     "data": {
      "text/plain": [
       "0.3928485555130601"
      ]
     },
     "execution_count": 131,
     "metadata": {},
     "output_type": "execute_result"
    }
   ],
   "source": [
    "# вычисление коэффицинта Пирсона для платформы PS4 (оценка критиков)\n",
    "current_data[current_data['platform'] == 'PS4']['critic_score'].corr(current_data['total_sales'])"
   ]
  },
  {
   "cell_type": "code",
   "execution_count": 132,
   "metadata": {},
   "outputs": [
    {
     "data": {
      "image/png": "[encoded data removed]",
      "text/plain": [
       "<Figure size 432x288 with 1 Axes>"
      ]
     },
     "metadata": {
      "needs_background": "light"
     },
     "output_type": "display_data"
    }
   ],
   "source": [
    "# диаграмма, демонстрирующая влияние пользовательских оценок критиков на продажи платформы PS4\n",
    "current_data[current_data['platform'] == 'PS4'].plot(x='user_score', y='total_sales', kind='scatter')\n",
    "plt.show()"
   ]
  },
  {
   "cell_type": "code",
   "execution_count": 133,
   "metadata": {},
   "outputs": [
    {
     "data": {
      "text/plain": [
       "-0.05973845712638215"
      ]
     },
     "execution_count": 133,
     "metadata": {},
     "output_type": "execute_result"
    }
   ],
   "source": [
    "# вычисление коэффицинта Пирсона для платформы PS4 (оценка пользователей)\n",
    "current_data[current_data['platform'] == 'PS4']['user_score'].corr(current_data['total_sales'])"
   ]
  },
  {
   "cell_type": "markdown",
   "metadata": {},
   "source": [
    "Оценка критиков достаточно напрямую влияет на продажи платформы PS4, коээфициент корреляции составляет 0.39, и чем выше оценка, тем больше растиражированы игры, что и продемонстрировано на соответствующем графике. В то же время пользовательские оценки не оказывают практически никакого влияния, имея низкое значение корреляции, да к тому же отрицательное, а из графика следует, что максимальные продажи случилиси даже при средней оценке на уровне 4-5."
   ]
  },
  {
   "cell_type": "code",
   "execution_count": 134,
   "metadata": {},
   "outputs": [
    {
     "data": {
      "image/png": "[encoded data removed]",
      "text/plain": [
       "<Figure size 432x288 with 1 Axes>"
      ]
     },
     "metadata": {
      "needs_background": "light"
     },
     "output_type": "display_data"
    }
   ],
   "source": [
    "# диаграмма, демонстрирующая влияние оценок критиков на продажи других платформ\n",
    "current_data[current_data['platform'] != 'PS4'].plot(x='critic_score', y='total_sales', kind='scatter')\n",
    "plt.show()"
   ]
  },
  {
   "cell_type": "code",
   "execution_count": 135,
   "metadata": {},
   "outputs": [
    {
     "data": {
      "text/plain": [
       "0.30324302098520883"
      ]
     },
     "execution_count": 135,
     "metadata": {},
     "output_type": "execute_result"
    }
   ],
   "source": [
    "# вычисление коэффицинта Пирсона для других платформ (оценка критиков)\n",
    "current_data[current_data['platform'] != 'PS4']['critic_score'].corr(current_data['total_sales'])"
   ]
  },
  {
   "cell_type": "code",
   "execution_count": 136,
   "metadata": {},
   "outputs": [
    {
     "data": {
      "image/png": "[encoded data removed]",
      "text/plain": [
       "<Figure size 432x288 with 1 Axes>"
      ]
     },
     "metadata": {
      "needs_background": "light"
     },
     "output_type": "display_data"
    }
   ],
   "source": [
    "# диаграмма, демонстрирующая влияние пользовательских оценок на продажи других платформ\n",
    "current_data[current_data['platform'] != 'PS4'].plot(x='user_score', y='total_sales', kind='scatter')\n",
    "plt.show()"
   ]
  },
  {
   "cell_type": "code",
   "execution_count": 137,
   "metadata": {},
   "outputs": [
    {
     "data": {
      "text/plain": [
       "0.017521130656321507"
      ]
     },
     "execution_count": 137,
     "metadata": {},
     "output_type": "execute_result"
    }
   ],
   "source": [
    "# вычисление коэффицинта Пирсона для других платформ (оценка пользователей)\n",
    "current_data[current_data['platform'] != 'PS4']['user_score'].corr(current_data['total_sales'])"
   ]
  },
  {
   "cell_type": "markdown",
   "metadata": {},
   "source": [
    "Взаимосвязь оценок с продажами на других платформах похожая, в силу того, что оценки критиков влияют на продажи, а оценки пользователей - нет, однако, здесь связь слабее, что и подтверждается рассчитанными коэффициентами корреляции: 0.30 и 0.02 соответственно."
   ]
  },
  {
   "cell_type": "markdown",
   "metadata": {},
   "source": [
    "<div class=\"alert alert-block alert-success\">\n",
    "\n",
    "    \n",
    "### Комментарий от ревьюера v_1\n",
    "\n",
    "Шаг выполнен отлично!\n",
    "    \n",
    "Расчеты, выводы и графики верны 👍🏻\n",
    "    \n",
    "</div>"
   ]
  },
  {
   "cell_type": "markdown",
   "metadata": {},
   "source": [
    "### Наиболее популярные жанры"
   ]
  },
  {
   "cell_type": "code",
   "execution_count": 138,
   "metadata": {},
   "outputs": [
    {
     "data": {
      "image/png": "[encoded data removed]",
      "text/plain": [
       "<Figure size 720x360 with 1 Axes>"
      ]
     },
     "metadata": {
      "needs_background": "light"
     },
     "output_type": "display_data"
    }
   ],
   "source": [
    "# распределение игр по жанрам\n",
    "data_genres = current_data.groupby('genre')['name'].agg('count')\n",
    "data_genres.plot(kind='bar', figsize=(10, 5), alpha=0.5)\n",
    "plt.title('Распределение игр по жанрам')\n",
    "plt.show()"
   ]
  },
  {
   "cell_type": "code",
   "execution_count": 139,
   "metadata": {},
   "outputs": [
    {
     "data": {
      "text/plain": [
       "genre\n",
       "Shooter         0.380\n",
       "Sports          0.120\n",
       "Role-Playing    0.115\n",
       "Simulation      0.100\n",
       "Platform        0.100\n",
       "Fighting        0.090\n",
       "Action          0.060\n",
       "Misc            0.060\n",
       "Racing          0.055\n",
       "Strategy        0.050\n",
       "Puzzle          0.030\n",
       "Adventure       0.030\n",
       "Name: total_sales, dtype: float64"
      ]
     },
     "execution_count": 139,
     "metadata": {},
     "output_type": "execute_result"
    }
   ],
   "source": [
    "# продажи по жанрам\n",
    "current_data.groupby('genre')['total_sales'].agg('median').sort_values(ascending=False)"
   ]
  },
  {
   "cell_type": "markdown",
   "metadata": {},
   "source": [
    "1. Если говорить о наибольшем количестве выпущенных игр, то это были игры жанра Action, выпущено более 420 игр за актуальный период. В жанрах Adventure, Role-Playing и Sports было выпущено где-то по 100 игр. \n",
    "2. Однако в денежном выражении наиболее прибыльным жанром оказался жанр Shooter с медианными продажами на уровне 0.38 млн. копий, в то время как жанры Puzzle и Adventure со значениями в 10 раз меньшими совершенно не обнадеживают в ближайшей перспективе. "
   ]
  },
  {
   "cell_type": "markdown",
   "metadata": {},
   "source": [
    "<div class=\"alert alert-block alert-danger\">\n",
    "    \n",
    "\n",
    "### Комментарий от ревьюера v_1\n",
    "Критично\n",
    "\n",
    "Общие продажи - плохая метрика для поиска наиболее прибыльного жанра. За высокими показателями общих продаж может скрываться множество мелких игр с низкими продажами. Или 2-3 звезды и куча провалов. Лучше найти жанр, где игры стабильно приносят высокий доход - для этого стоит рассмотреть средние или медианные продажи\n",
    "    \n",
    "</div>"
   ]
  },
  {
   "cell_type": "markdown",
   "metadata": {},
   "source": [
    " <div class=\"alert alert-info\" style=\"box-shadow: 4px 4px 4px\">\n",
    "<b>Комментарий студента:</b> Исправила\n",
    "<br>\n",
    "</div>"
   ]
  },
  {
   "cell_type": "markdown",
   "metadata": {},
   "source": [
    "<div class=\"alert alert-block alert-danger\">\n",
    "    \n",
    "\n",
    "### Комментарий от ревьюера v_1\n",
    "Критично\n",
    "\n",
    "Не хватает вывода по шагу исследовательского анализа\n",
    "    \n",
    "</div>"
   ]
  },
  {
   "cell_type": "markdown",
   "metadata": {},
   "source": [
    "1. Исследование охватило более 35 лет, что не мешает для построения прогноза 2017 г. остановиться на данных 2015-2016 гг., так как выпуск новых игр в 80х годах насчитывался до 20 игр в год. Следует заметить, что начиная с 2009 г. продажи пошли на спад, что повлекло за собой исчезновение когда-то популярных платформ, срок жизни которых не превышает за редким исключением 10 лет.\n",
    "2. Оценки критиков достаточно сильно влияют на продажи игры в то время как пользовательские оценки едва ли могут считаться важным фактором, так как продажи игр могут быть значительными даже при средних оценках юзеров.\n",
    "3. Распределение игр по жанрам позволяет сделать вывод о том, что популярность жанра не всегда влияет на продажи игр. Так, более 400 игр было выпущено за период 2015-2016 гг. в жанре Action, однако медианные продажи этого жанра едва ли составляют 0.06 млн.копий, намногим больше отставая от прибыльного жанра Shooter с медианными продажами на уровне 0.38 млн. копий. "
   ]
  },
  {
   "cell_type": "markdown",
   "metadata": {},
   "source": [
    "## Составьте портрет пользователя каждого региона"
   ]
  },
  {
   "cell_type": "markdown",
   "metadata": {},
   "source": [
    "Данный этап позволит выделить популярные платформы и жанры в зависимости от региона продаж, и более того влияет ли рейтинг ESRB на продажи региона."
   ]
  },
  {
   "cell_type": "code",
   "execution_count": 140,
   "metadata": {},
   "outputs": [],
   "source": [
    "# создание функции для определения популярных платформ \n",
    "def top_platform(platform, region):\n",
    "    \n",
    "    top_5 = current_data.groupby(platform)[region].sum().sort_values(ascending=False).reset_index()\n",
    "    top_5['sales_share'] = top_5[region]/current_data[region].sum()\n",
    "    labels = top_5[platform]\n",
    "    top_5.plot(y=region, labels=labels, autopct='%1.1f%%', kind='pie', figsize=(8,8))\n",
    " \n",
    "    return top_5.head()"
   ]
  },
  {
   "cell_type": "code",
   "execution_count": 141,
   "metadata": {},
   "outputs": [
    {
     "data": {
      "text/html": [
       "<div>\n",
       "<style scoped>\n",
       "    .dataframe tbody tr th:only-of-type {\n",
       "        vertical-align: middle;\n",
       "    }\n",
       "\n",
       "    .dataframe tbody tr th {\n",
       "        vertical-align: top;\n",
       "    }\n",
       "\n",
       "    .dataframe thead th {\n",
       "        text-align: right;\n",
       "    }\n",
       "</style>\n",
       "<table border=\"1\" class=\"dataframe\">\n",
       "  <thead>\n",
       "    <tr style=\"text-align: right;\">\n",
       "      <th></th>\n",
       "      <th>platform</th>\n",
       "      <th>NA_sales</th>\n",
       "      <th>sales_share</th>\n",
       "    </tr>\n",
       "  </thead>\n",
       "  <tbody>\n",
       "    <tr>\n",
       "      <td>0</td>\n",
       "      <td>PS4</td>\n",
       "      <td>63.86</td>\n",
       "      <td>0.420713</td>\n",
       "    </tr>\n",
       "    <tr>\n",
       "      <td>1</td>\n",
       "      <td>XOne</td>\n",
       "      <td>50.30</td>\n",
       "      <td>0.331379</td>\n",
       "    </tr>\n",
       "    <tr>\n",
       "      <td>2</td>\n",
       "      <td>3DS</td>\n",
       "      <td>10.31</td>\n",
       "      <td>0.067923</td>\n",
       "    </tr>\n",
       "    <tr>\n",
       "      <td>3</td>\n",
       "      <td>WiiU</td>\n",
       "      <td>8.86</td>\n",
       "      <td>0.058370</td>\n",
       "    </tr>\n",
       "    <tr>\n",
       "      <td>4</td>\n",
       "      <td>X360</td>\n",
       "      <td>8.05</td>\n",
       "      <td>0.053034</td>\n",
       "    </tr>\n",
       "  </tbody>\n",
       "</table>\n",
       "</div>"
      ],
      "text/plain": [
       "  platform  NA_sales  sales_share\n",
       "0      PS4     63.86     0.420713\n",
       "1     XOne     50.30     0.331379\n",
       "2      3DS     10.31     0.067923\n",
       "3     WiiU      8.86     0.058370\n",
       "4     X360      8.05     0.053034"
      ]
     },
     "execution_count": 141,
     "metadata": {},
     "output_type": "execute_result"
    },
    {
     "data": {
      "image/png": "[encoded data removed]",
      "text/plain": [
       "<Figure size 576x576 with 1 Axes>"
      ]
     },
     "metadata": {},
     "output_type": "display_data"
    }
   ],
   "source": [
    "# вызов функции для региона \"Северная Америка\" \n",
    "top_platform('platform', 'NA_sales')"
   ]
  },
  {
   "cell_type": "code",
   "execution_count": 142,
   "metadata": {},
   "outputs": [
    {
     "data": {
      "text/html": [
       "<div>\n",
       "<style scoped>\n",
       "    .dataframe tbody tr th:only-of-type {\n",
       "        vertical-align: middle;\n",
       "    }\n",
       "\n",
       "    .dataframe tbody tr th {\n",
       "        vertical-align: top;\n",
       "    }\n",
       "\n",
       "    .dataframe thead th {\n",
       "        text-align: right;\n",
       "    }\n",
       "</style>\n",
       "<table border=\"1\" class=\"dataframe\">\n",
       "  <thead>\n",
       "    <tr style=\"text-align: right;\">\n",
       "      <th></th>\n",
       "      <th>platform</th>\n",
       "      <th>EU_sales</th>\n",
       "      <th>sales_share</th>\n",
       "    </tr>\n",
       "  </thead>\n",
       "  <tbody>\n",
       "    <tr>\n",
       "      <td>0</td>\n",
       "      <td>PS4</td>\n",
       "      <td>83.54</td>\n",
       "      <td>0.564688</td>\n",
       "    </tr>\n",
       "    <tr>\n",
       "      <td>1</td>\n",
       "      <td>XOne</td>\n",
       "      <td>28.10</td>\n",
       "      <td>0.189942</td>\n",
       "    </tr>\n",
       "    <tr>\n",
       "      <td>2</td>\n",
       "      <td>PC</td>\n",
       "      <td>9.10</td>\n",
       "      <td>0.061511</td>\n",
       "    </tr>\n",
       "    <tr>\n",
       "      <td>3</td>\n",
       "      <td>3DS</td>\n",
       "      <td>7.39</td>\n",
       "      <td>0.049953</td>\n",
       "    </tr>\n",
       "    <tr>\n",
       "      <td>4</td>\n",
       "      <td>PS3</td>\n",
       "      <td>7.30</td>\n",
       "      <td>0.049344</td>\n",
       "    </tr>\n",
       "  </tbody>\n",
       "</table>\n",
       "</div>"
      ],
      "text/plain": [
       "  platform  EU_sales  sales_share\n",
       "0      PS4     83.54     0.564688\n",
       "1     XOne     28.10     0.189942\n",
       "2       PC      9.10     0.061511\n",
       "3      3DS      7.39     0.049953\n",
       "4      PS3      7.30     0.049344"
      ]
     },
     "execution_count": 142,
     "metadata": {},
     "output_type": "execute_result"
    },
    {
     "data": {
      "image/png": "[encoded data removed]",
      "text/plain": [
       "<Figure size 576x576 with 1 Axes>"
      ]
     },
     "metadata": {},
     "output_type": "display_data"
    }
   ],
   "source": [
    "# вызов функции для региона \"Европа\" \n",
    "top_platform('platform', 'EU_sales')"
   ]
  },
  {
   "cell_type": "code",
   "execution_count": 143,
   "metadata": {},
   "outputs": [
    {
     "data": {
      "text/html": [
       "<div>\n",
       "<style scoped>\n",
       "    .dataframe tbody tr th:only-of-type {\n",
       "        vertical-align: middle;\n",
       "    }\n",
       "\n",
       "    .dataframe tbody tr th {\n",
       "        vertical-align: top;\n",
       "    }\n",
       "\n",
       "    .dataframe thead th {\n",
       "        text-align: right;\n",
       "    }\n",
       "</style>\n",
       "<table border=\"1\" class=\"dataframe\">\n",
       "  <thead>\n",
       "    <tr style=\"text-align: right;\">\n",
       "      <th></th>\n",
       "      <th>platform</th>\n",
       "      <th>JP_sales</th>\n",
       "      <th>sales_share</th>\n",
       "    </tr>\n",
       "  </thead>\n",
       "  <tbody>\n",
       "    <tr>\n",
       "      <td>0</td>\n",
       "      <td>3DS</td>\n",
       "      <td>23.55</td>\n",
       "      <td>0.441011</td>\n",
       "    </tr>\n",
       "    <tr>\n",
       "      <td>1</td>\n",
       "      <td>PS4</td>\n",
       "      <td>12.05</td>\n",
       "      <td>0.225655</td>\n",
       "    </tr>\n",
       "    <tr>\n",
       "      <td>2</td>\n",
       "      <td>PSV</td>\n",
       "      <td>8.41</td>\n",
       "      <td>0.157491</td>\n",
       "    </tr>\n",
       "    <tr>\n",
       "      <td>3</td>\n",
       "      <td>PS3</td>\n",
       "      <td>4.97</td>\n",
       "      <td>0.093071</td>\n",
       "    </tr>\n",
       "    <tr>\n",
       "      <td>4</td>\n",
       "      <td>WiiU</td>\n",
       "      <td>4.12</td>\n",
       "      <td>0.077154</td>\n",
       "    </tr>\n",
       "  </tbody>\n",
       "</table>\n",
       "</div>"
      ],
      "text/plain": [
       "  platform  JP_sales  sales_share\n",
       "0      3DS     23.55     0.441011\n",
       "1      PS4     12.05     0.225655\n",
       "2      PSV      8.41     0.157491\n",
       "3      PS3      4.97     0.093071\n",
       "4     WiiU      4.12     0.077154"
      ]
     },
     "execution_count": 143,
     "metadata": {},
     "output_type": "execute_result"
    },
    {
     "data": {
      "image/png": "[encoded data removed]",
      "text/plain": [
       "<Figure size 576x576 with 1 Axes>"
      ]
     },
     "metadata": {},
     "output_type": "display_data"
    }
   ],
   "source": [
    "# вызов функции для региона \"Япония\" \n",
    "top_platform('platform', 'JP_sales')"
   ]
  },
  {
   "cell_type": "markdown",
   "metadata": {},
   "source": [
    "Топ-5 в Северной Америке и Европе состоит из одинаковых платформ, а топовые и совершенно идентичные PS4 и XOne генерируют максимальные продажи. В то же время неплохая для этих регионов платформа XOne совершенно непопулярна в Японии, где на первое место выходит платформа 3DS, которая в Америке и Европе показывает сравнительно неплохие результаты."
   ]
  },
  {
   "cell_type": "code",
   "execution_count": 144,
   "metadata": {},
   "outputs": [],
   "source": [
    "# создание функции для определения популярных жанров \n",
    "def top_genre(genre, region):\n",
    "    \n",
    "    top_5 = current_data.groupby(genre)[region].sum().sort_values(ascending=False).reset_index()\n",
    "    top_5['sales_share'] = top_5[region]/current_data[region].sum()\n",
    "    labels = top_5[genre]\n",
    "    top_5.plot(y=region, labels=labels, autopct='%1.1f%%', kind='pie', figsize=(8,8))\n",
    "    \n",
    "    return top_5.head()"
   ]
  },
  {
   "cell_type": "code",
   "execution_count": 145,
   "metadata": {},
   "outputs": [
    {
     "data": {
      "text/html": [
       "<div>\n",
       "<style scoped>\n",
       "    .dataframe tbody tr th:only-of-type {\n",
       "        vertical-align: middle;\n",
       "    }\n",
       "\n",
       "    .dataframe tbody tr th {\n",
       "        vertical-align: top;\n",
       "    }\n",
       "\n",
       "    .dataframe thead th {\n",
       "        text-align: right;\n",
       "    }\n",
       "</style>\n",
       "<table border=\"1\" class=\"dataframe\">\n",
       "  <thead>\n",
       "    <tr style=\"text-align: right;\">\n",
       "      <th></th>\n",
       "      <th>genre</th>\n",
       "      <th>NA_sales</th>\n",
       "      <th>sales_share</th>\n",
       "    </tr>\n",
       "  </thead>\n",
       "  <tbody>\n",
       "    <tr>\n",
       "      <td>0</td>\n",
       "      <td>Shooter</td>\n",
       "      <td>48.18</td>\n",
       "      <td>0.317412</td>\n",
       "    </tr>\n",
       "    <tr>\n",
       "      <td>1</td>\n",
       "      <td>Action</td>\n",
       "      <td>33.68</td>\n",
       "      <td>0.221885</td>\n",
       "    </tr>\n",
       "    <tr>\n",
       "      <td>2</td>\n",
       "      <td>Sports</td>\n",
       "      <td>26.31</td>\n",
       "      <td>0.173332</td>\n",
       "    </tr>\n",
       "    <tr>\n",
       "      <td>3</td>\n",
       "      <td>Role-Playing</td>\n",
       "      <td>19.82</td>\n",
       "      <td>0.130575</td>\n",
       "    </tr>\n",
       "    <tr>\n",
       "      <td>4</td>\n",
       "      <td>Misc</td>\n",
       "      <td>5.58</td>\n",
       "      <td>0.036761</td>\n",
       "    </tr>\n",
       "  </tbody>\n",
       "</table>\n",
       "</div>"
      ],
      "text/plain": [
       "          genre  NA_sales  sales_share\n",
       "0       Shooter     48.18     0.317412\n",
       "1        Action     33.68     0.221885\n",
       "2        Sports     26.31     0.173332\n",
       "3  Role-Playing     19.82     0.130575\n",
       "4          Misc      5.58     0.036761"
      ]
     },
     "execution_count": 145,
     "metadata": {},
     "output_type": "execute_result"
    },
    {
     "data": {
      "image/png": "[encoded data removed]",
      "text/plain": [
       "<Figure size 576x576 with 1 Axes>"
      ]
     },
     "metadata": {},
     "output_type": "display_data"
    }
   ],
   "source": [
    "# вызов функции для региона \"Северная Америка\" \n",
    "top_genre('genre', 'NA_sales')"
   ]
  },
  {
   "cell_type": "code",
   "execution_count": 146,
   "metadata": {},
   "outputs": [
    {
     "data": {
      "text/html": [
       "<div>\n",
       "<style scoped>\n",
       "    .dataframe tbody tr th:only-of-type {\n",
       "        vertical-align: middle;\n",
       "    }\n",
       "\n",
       "    .dataframe tbody tr th {\n",
       "        vertical-align: top;\n",
       "    }\n",
       "\n",
       "    .dataframe thead th {\n",
       "        text-align: right;\n",
       "    }\n",
       "</style>\n",
       "<table border=\"1\" class=\"dataframe\">\n",
       "  <thead>\n",
       "    <tr style=\"text-align: right;\">\n",
       "      <th></th>\n",
       "      <th>genre</th>\n",
       "      <th>EU_sales</th>\n",
       "      <th>sales_share</th>\n",
       "    </tr>\n",
       "  </thead>\n",
       "  <tbody>\n",
       "    <tr>\n",
       "      <td>0</td>\n",
       "      <td>Shooter</td>\n",
       "      <td>40.28</td>\n",
       "      <td>0.272273</td>\n",
       "    </tr>\n",
       "    <tr>\n",
       "      <td>1</td>\n",
       "      <td>Action</td>\n",
       "      <td>34.82</td>\n",
       "      <td>0.235366</td>\n",
       "    </tr>\n",
       "    <tr>\n",
       "      <td>2</td>\n",
       "      <td>Sports</td>\n",
       "      <td>27.82</td>\n",
       "      <td>0.188049</td>\n",
       "    </tr>\n",
       "    <tr>\n",
       "      <td>3</td>\n",
       "      <td>Role-Playing</td>\n",
       "      <td>17.21</td>\n",
       "      <td>0.116331</td>\n",
       "    </tr>\n",
       "    <tr>\n",
       "      <td>4</td>\n",
       "      <td>Racing</td>\n",
       "      <td>6.52</td>\n",
       "      <td>0.044072</td>\n",
       "    </tr>\n",
       "  </tbody>\n",
       "</table>\n",
       "</div>"
      ],
      "text/plain": [
       "          genre  EU_sales  sales_share\n",
       "0       Shooter     40.28     0.272273\n",
       "1        Action     34.82     0.235366\n",
       "2        Sports     27.82     0.188049\n",
       "3  Role-Playing     17.21     0.116331\n",
       "4        Racing      6.52     0.044072"
      ]
     },
     "execution_count": 146,
     "metadata": {},
     "output_type": "execute_result"
    },
    {
     "data": {
      "image/png": "[encoded data removed]",
      "text/plain": [
       "<Figure size 576x576 with 1 Axes>"
      ]
     },
     "metadata": {},
     "output_type": "display_data"
    }
   ],
   "source": [
    "# вызов функции для региона \"Европа\" \n",
    "top_genre('genre', 'EU_sales')"
   ]
  },
  {
   "cell_type": "code",
   "execution_count": 147,
   "metadata": {},
   "outputs": [
    {
     "data": {
      "text/html": [
       "<div>\n",
       "<style scoped>\n",
       "    .dataframe tbody tr th:only-of-type {\n",
       "        vertical-align: middle;\n",
       "    }\n",
       "\n",
       "    .dataframe tbody tr th {\n",
       "        vertical-align: top;\n",
       "    }\n",
       "\n",
       "    .dataframe thead th {\n",
       "        text-align: right;\n",
       "    }\n",
       "</style>\n",
       "<table border=\"1\" class=\"dataframe\">\n",
       "  <thead>\n",
       "    <tr style=\"text-align: right;\">\n",
       "      <th></th>\n",
       "      <th>genre</th>\n",
       "      <th>JP_sales</th>\n",
       "      <th>sales_share</th>\n",
       "    </tr>\n",
       "  </thead>\n",
       "  <tbody>\n",
       "    <tr>\n",
       "      <td>0</td>\n",
       "      <td>Action</td>\n",
       "      <td>23.05</td>\n",
       "      <td>0.431648</td>\n",
       "    </tr>\n",
       "    <tr>\n",
       "      <td>1</td>\n",
       "      <td>Role-Playing</td>\n",
       "      <td>13.41</td>\n",
       "      <td>0.251124</td>\n",
       "    </tr>\n",
       "    <tr>\n",
       "      <td>2</td>\n",
       "      <td>Shooter</td>\n",
       "      <td>3.79</td>\n",
       "      <td>0.070974</td>\n",
       "    </tr>\n",
       "    <tr>\n",
       "      <td>3</td>\n",
       "      <td>Misc</td>\n",
       "      <td>3.19</td>\n",
       "      <td>0.059738</td>\n",
       "    </tr>\n",
       "    <tr>\n",
       "      <td>4</td>\n",
       "      <td>Adventure</td>\n",
       "      <td>2.22</td>\n",
       "      <td>0.041573</td>\n",
       "    </tr>\n",
       "  </tbody>\n",
       "</table>\n",
       "</div>"
      ],
      "text/plain": [
       "          genre  JP_sales  sales_share\n",
       "0        Action     23.05     0.431648\n",
       "1  Role-Playing     13.41     0.251124\n",
       "2       Shooter      3.79     0.070974\n",
       "3          Misc      3.19     0.059738\n",
       "4     Adventure      2.22     0.041573"
      ]
     },
     "execution_count": 147,
     "metadata": {},
     "output_type": "execute_result"
    },
    {
     "data": {
      "image/png": "[encoded data removed]",
      "text/plain": [
       "<Figure size 576x576 with 1 Axes>"
      ]
     },
     "metadata": {},
     "output_type": "display_data"
    }
   ],
   "source": [
    "# вызов функции для региона \"Япония\" \n",
    "top_genre('genre', 'JP_sales')"
   ]
  },
  {
   "cell_type": "markdown",
   "metadata": {},
   "source": [
    "Анализ популярных жанров также демонстрирует схожесть в предпочтениях пользователей Америки и Европы, наиболее популярным жанром является жанр Shooter, популярны также жанры Sports и Action. В Японии, наоборот, популярны приобретают совершенно новые для западных жителей жанры Adventure и Misc. Наибольшую любовь у японских геймеров вызывают игры жанра Action."
   ]
  },
  {
   "cell_type": "markdown",
   "metadata": {},
   "source": [
    "<div class=\"alert alert-block alert-success\">\n",
    "    \n",
    "\n",
    "### Комментарий от ревьюера v_1\n",
    "Отлично \n",
    "\n",
    "Расчеты верны, но не хватает визуализаций\n",
    "</div>"
   ]
  },
  {
   "cell_type": "code",
   "execution_count": 148,
   "metadata": {},
   "outputs": [],
   "source": [
    "# создание функции для оценки влияния рейтинга ESRB на продажи\n",
    "def ratings(rating, region):\n",
    "    \n",
    "    top_5 = current_data.groupby(rating)[region].sum().sort_values(ascending=False).reset_index()\n",
    "    top_5['sales_share'] = top_5[region]/current_data[region].sum()\n",
    "    labels = top_5[rating]\n",
    "    top_5.plot(y=region, labels=labels, autopct='%1.1f%%', kind='pie', figsize=(8,8))\n",
    "    \n",
    "    return top_5.head()"
   ]
  },
  {
   "cell_type": "code",
   "execution_count": 149,
   "metadata": {},
   "outputs": [
    {
     "data": {
      "text/html": [
       "<div>\n",
       "<style scoped>\n",
       "    .dataframe tbody tr th:only-of-type {\n",
       "        vertical-align: middle;\n",
       "    }\n",
       "\n",
       "    .dataframe tbody tr th {\n",
       "        vertical-align: top;\n",
       "    }\n",
       "\n",
       "    .dataframe thead th {\n",
       "        text-align: right;\n",
       "    }\n",
       "</style>\n",
       "<table border=\"1\" class=\"dataframe\">\n",
       "  <thead>\n",
       "    <tr style=\"text-align: right;\">\n",
       "      <th></th>\n",
       "      <th>rating</th>\n",
       "      <th>NA_sales</th>\n",
       "      <th>sales_share</th>\n",
       "    </tr>\n",
       "  </thead>\n",
       "  <tbody>\n",
       "    <tr>\n",
       "      <td>0</td>\n",
       "      <td>M</td>\n",
       "      <td>47.03</td>\n",
       "      <td>0.309836</td>\n",
       "    </tr>\n",
       "    <tr>\n",
       "      <td>1</td>\n",
       "      <td>unknown</td>\n",
       "      <td>37.44</td>\n",
       "      <td>0.246657</td>\n",
       "    </tr>\n",
       "    <tr>\n",
       "      <td>2</td>\n",
       "      <td>E</td>\n",
       "      <td>26.59</td>\n",
       "      <td>0.175176</td>\n",
       "    </tr>\n",
       "    <tr>\n",
       "      <td>3</td>\n",
       "      <td>T</td>\n",
       "      <td>22.86</td>\n",
       "      <td>0.150603</td>\n",
       "    </tr>\n",
       "    <tr>\n",
       "      <td>4</td>\n",
       "      <td>E10+</td>\n",
       "      <td>17.87</td>\n",
       "      <td>0.117728</td>\n",
       "    </tr>\n",
       "  </tbody>\n",
       "</table>\n",
       "</div>"
      ],
      "text/plain": [
       "    rating  NA_sales  sales_share\n",
       "0        M     47.03     0.309836\n",
       "1  unknown     37.44     0.246657\n",
       "2        E     26.59     0.175176\n",
       "3        T     22.86     0.150603\n",
       "4     E10+     17.87     0.117728"
      ]
     },
     "execution_count": 149,
     "metadata": {},
     "output_type": "execute_result"
    },
    {
     "data": {
      "image/png": "[encoded data removed]",
      "text/plain": [
       "<Figure size 576x576 with 1 Axes>"
      ]
     },
     "metadata": {},
     "output_type": "display_data"
    }
   ],
   "source": [
    "# вызов функции для региона \"Северная Америка\" \n",
    "ratings('rating', 'NA_sales')"
   ]
  },
  {
   "cell_type": "code",
   "execution_count": 150,
   "metadata": {},
   "outputs": [
    {
     "data": {
      "text/html": [
       "<div>\n",
       "<style scoped>\n",
       "    .dataframe tbody tr th:only-of-type {\n",
       "        vertical-align: middle;\n",
       "    }\n",
       "\n",
       "    .dataframe tbody tr th {\n",
       "        vertical-align: top;\n",
       "    }\n",
       "\n",
       "    .dataframe thead th {\n",
       "        text-align: right;\n",
       "    }\n",
       "</style>\n",
       "<table border=\"1\" class=\"dataframe\">\n",
       "  <thead>\n",
       "    <tr style=\"text-align: right;\">\n",
       "      <th></th>\n",
       "      <th>rating</th>\n",
       "      <th>EU_sales</th>\n",
       "      <th>sales_share</th>\n",
       "    </tr>\n",
       "  </thead>\n",
       "  <tbody>\n",
       "    <tr>\n",
       "      <td>0</td>\n",
       "      <td>M</td>\n",
       "      <td>45.54</td>\n",
       "      <td>0.307827</td>\n",
       "    </tr>\n",
       "    <tr>\n",
       "      <td>1</td>\n",
       "      <td>unknown</td>\n",
       "      <td>35.71</td>\n",
       "      <td>0.241382</td>\n",
       "    </tr>\n",
       "    <tr>\n",
       "      <td>2</td>\n",
       "      <td>E</td>\n",
       "      <td>34.83</td>\n",
       "      <td>0.235433</td>\n",
       "    </tr>\n",
       "    <tr>\n",
       "      <td>3</td>\n",
       "      <td>T</td>\n",
       "      <td>20.32</td>\n",
       "      <td>0.137353</td>\n",
       "    </tr>\n",
       "    <tr>\n",
       "      <td>4</td>\n",
       "      <td>E10+</td>\n",
       "      <td>11.54</td>\n",
       "      <td>0.078005</td>\n",
       "    </tr>\n",
       "  </tbody>\n",
       "</table>\n",
       "</div>"
      ],
      "text/plain": [
       "    rating  EU_sales  sales_share\n",
       "0        M     45.54     0.307827\n",
       "1  unknown     35.71     0.241382\n",
       "2        E     34.83     0.235433\n",
       "3        T     20.32     0.137353\n",
       "4     E10+     11.54     0.078005"
      ]
     },
     "execution_count": 150,
     "metadata": {},
     "output_type": "execute_result"
    },
    {
     "data": {
      "image/png": "[encoded data removed]",
      "text/plain": [
       "<Figure size 576x576 with 1 Axes>"
      ]
     },
     "metadata": {},
     "output_type": "display_data"
    }
   ],
   "source": [
    "# вызов функции для региона \"Европа\" \n",
    "ratings('rating', 'EU_sales')"
   ]
  },
  {
   "cell_type": "code",
   "execution_count": 151,
   "metadata": {},
   "outputs": [
    {
     "data": {
      "text/html": [
       "<div>\n",
       "<style scoped>\n",
       "    .dataframe tbody tr th:only-of-type {\n",
       "        vertical-align: middle;\n",
       "    }\n",
       "\n",
       "    .dataframe tbody tr th {\n",
       "        vertical-align: top;\n",
       "    }\n",
       "\n",
       "    .dataframe thead th {\n",
       "        text-align: right;\n",
       "    }\n",
       "</style>\n",
       "<table border=\"1\" class=\"dataframe\">\n",
       "  <thead>\n",
       "    <tr style=\"text-align: right;\">\n",
       "      <th></th>\n",
       "      <th>rating</th>\n",
       "      <th>JP_sales</th>\n",
       "      <th>sales_share</th>\n",
       "    </tr>\n",
       "  </thead>\n",
       "  <tbody>\n",
       "    <tr>\n",
       "      <td>0</td>\n",
       "      <td>unknown</td>\n",
       "      <td>32.89</td>\n",
       "      <td>0.615918</td>\n",
       "    </tr>\n",
       "    <tr>\n",
       "      <td>1</td>\n",
       "      <td>T</td>\n",
       "      <td>7.70</td>\n",
       "      <td>0.144195</td>\n",
       "    </tr>\n",
       "    <tr>\n",
       "      <td>2</td>\n",
       "      <td>E</td>\n",
       "      <td>5.25</td>\n",
       "      <td>0.098315</td>\n",
       "    </tr>\n",
       "    <tr>\n",
       "      <td>3</td>\n",
       "      <td>M</td>\n",
       "      <td>4.29</td>\n",
       "      <td>0.080337</td>\n",
       "    </tr>\n",
       "    <tr>\n",
       "      <td>4</td>\n",
       "      <td>E10+</td>\n",
       "      <td>3.27</td>\n",
       "      <td>0.061236</td>\n",
       "    </tr>\n",
       "  </tbody>\n",
       "</table>\n",
       "</div>"
      ],
      "text/plain": [
       "    rating  JP_sales  sales_share\n",
       "0  unknown     32.89     0.615918\n",
       "1        T      7.70     0.144195\n",
       "2        E      5.25     0.098315\n",
       "3        M      4.29     0.080337\n",
       "4     E10+      3.27     0.061236"
      ]
     },
     "execution_count": 151,
     "metadata": {},
     "output_type": "execute_result"
    },
    {
     "data": {
      "image/png": "[encoded data removed]",
      "text/plain": [
       "<Figure size 576x576 with 1 Axes>"
      ]
     },
     "metadata": {},
     "output_type": "display_data"
    }
   ],
   "source": [
    "# вызов функции для региона \"Япония\" \n",
    "ratings('rating', 'JP_sales')"
   ]
  },
  {
   "cell_type": "markdown",
   "metadata": {},
   "source": [
    "Напрашивается однозначный вывод, что рейтинг ESRB влияет на продажи в том или ином регионе. Пользователи Северной Америки и Европы предпочитают относительно серьезные уже игры для людей старше 17 лет. В Японии в компьютерные игры играют чаще всего подростки. **Следует отметить, что европейцы и американцы не склонны указывать рейтинг ESRB в 25 % случаях, а отсутствие рейтинга в Японии характперно для большей половины игр.**"
   ]
  },
  {
   "cell_type": "markdown",
   "metadata": {},
   "source": [
    "<div class=\"alert alert-block alert-danger\">\n",
    "    \n",
    "\n",
    "### Комментарий от ревьюера v_1\n",
    "Критично\n",
    "\n",
    "В рейтинг закралась ошибка. Ты оставляешь в таблице пропуски, т. е. неизвестный рейтинг. И этот неизвестный рейтинг никак не учтен в расчете.\n",
    "</div>"
   ]
  },
  {
   "cell_type": "markdown",
   "metadata": {},
   "source": [
    " <div class=\"alert alert-info\" style=\"box-shadow: 4px 4px 4px\">\n",
    "<b>Комментарий студента:</b> Я правильно переделала? в итоге пропуски в рейтингах нужно было ХОТЬ КАК-ТО заполнить?\n",
    "<br>\n",
    "</div>"
   ]
  },
  {
   "cell_type": "markdown",
   "metadata": {},
   "source": [
    "<div class=\"alert alert-block alert-danger\">\n",
    "    \n",
    "\n",
    "### Комментарий от ревьюера v_1\n",
    "Критично\n",
    "\n",
    "Не хватает общего вывода по шагу\n",
    "</div>"
   ]
  },
  {
   "cell_type": "markdown",
   "metadata": {},
   "source": [
    "1. Какой бы параметр не взять для анализа, будь то платформа, либо жанр, либо рейтинг игры, американцы и европейцы доказали схожесть в своих предпочтениях: пятерка лидеров в каждой из категории состоит практически из одинаковых значений, периодически пересекаясь на топовых строчках, так наиболее популярной платформой является PS4, а самым популярным жанром - Shooter.\n",
    "2. В то же время японцы отлмчаются оригинальностью, выбирая либо совершенно новые жанры игры, либо платформы, которые проигрывают в продажах у любимых американцами и европейцами платформ. В Японии в компьютерные игры играют чаще всего подростки, по сравнению со \"зрелыми\" предпочтериями на Западе, что подтверждает влияние рейтинга ESRB на выбор и продажи игр."
   ]
  },
  {
   "cell_type": "markdown",
   "metadata": {},
   "source": [
    "## Проверка статистических гипотез"
   ]
  },
  {
   "cell_type": "markdown",
   "metadata": {},
   "source": [
    "**Средние пользовательские рейтинги платформ Xbox One и PC одинаковые**\n",
    "\n",
    "* Н0 — средние пользовательские рейтинги платформ Xbox One и PC одинаковые\n",
    "* Н1 — средние пользовательские рейтинги платформ Xbox One и PC разные"
   ]
  },
  {
   "cell_type": "markdown",
   "metadata": {},
   "source": [
    "<div class=\"alert alert-block alert-success\">\n",
    "\n",
    "    \n",
    "### Комментарий от ревьюера v_1\n",
    "\n",
    "Отлично, гипотезы сформулированы верно\n",
    "    \n",
    "</div>"
   ]
  },
  {
   "cell_type": "code",
   "execution_count": 152,
   "metadata": {
    "scrolled": true
   },
   "outputs": [
    {
     "name": "stdout",
     "output_type": "stream",
     "text": [
      "p-значение:  0.2778542084733873\n",
      "Не получилось отвергнуть нулевую гипотезу\n"
     ]
    }
   ],
   "source": [
    "# проверка гипотезы\n",
    "sample_1 = current_data[current_data['platform'] == 'XOne']['user_score'] \n",
    "sample_2 = current_data[current_data['platform'] == 'PC']['user_score']\n",
    "results = st.ttest_ind(sample_1, sample_2, nan_policy='omit')\n",
    "alpha = .05\n",
    "\n",
    "print('p-значение: ', results.pvalue)\n",
    "if results.pvalue < alpha:\n",
    "    print('Отвергаем нулевую гипотезу')\n",
    "else:\n",
    "    print('Не получилось отвергнуть нулевую гипотезу')"
   ]
  },
  {
   "cell_type": "markdown",
   "metadata": {},
   "source": [
    "Рассчитанное p-значение продемонстрировало равенство средних рейтингов на платформах Xbox One и PC. Полученное значение p-value говорит о том, что вероятность получить такое или большее различие случайно почти 28% при всем многообразии пользовательскиз оценок. Это явно слишком большая вероятность, чтобы делать вывод о значимом различии между средними рейтингами. "
   ]
  },
  {
   "cell_type": "markdown",
   "metadata": {},
   "source": [
    "<div class=\"alert alert-block alert-success\">\n",
    "\n",
    "    \n",
    "### Комментарий от ревьюера v_1\n",
    "\n",
    "Отлично\n",
    "\n",
    "Результат теста верно интерпретирован\n",
    "    \n",
    "</div>"
   ]
  },
  {
   "cell_type": "markdown",
   "metadata": {},
   "source": [
    "**Средние пользовательские рейтинги жанров Action (англ. «действие», экшен-игры) и Sports (англ. «спортивные соревнования») разные.**\n",
    "\n",
    "* Н0 — Средние пользовательские рейтинги жанров Action (англ. «действие», экшен-игры) и Sports (англ. «спортивные соревнования») одинаковые.\n",
    "* Н1 — Средние пользовательские рейтинги жанров Action (англ. «действие», экшен-игры) и Sports (англ. «спортивные соревнования») разные."
   ]
  },
  {
   "cell_type": "markdown",
   "metadata": {},
   "source": [
    "<div class=\"alert alert-block alert-danger\">\n",
    "    \n",
    "\n",
    "### Комментарий от ревьюера v_1\n",
    "Критично\n",
    "\n",
    "В формулировке гипотез ошибка. Нулевая гипотеза - ВСЕГДА о равенстве\n",
    "</div>"
   ]
  },
  {
   "cell_type": "code",
   "execution_count": 153,
   "metadata": {},
   "outputs": [
    {
     "name": "stdout",
     "output_type": "stream",
     "text": [
      "p-значение:  1.0012846807938715e-13\n",
      "Отвергаем нулевую гипотезу\n"
     ]
    }
   ],
   "source": [
    "# проверка гипотезы\n",
    "sample_1 = current_data[current_data['genre'] == 'Action']['user_score'] \n",
    "sample_2 = current_data[current_data['genre'] == 'Sports']['user_score'] \n",
    "results = st.ttest_ind(sample_1, sample_2, nan_policy='omit')\n",
    "alpha = .05\n",
    "\n",
    "print('p-значение: ', results.pvalue)\n",
    "if results.pvalue < alpha:\n",
    "    print('Отвергаем нулевую гипотезу')\n",
    "else:\n",
    "    print('Не получилось отвергнуть нулевую гипотезу')"
   ]
  },
  {
   "cell_type": "markdown",
   "metadata": {},
   "source": [
    "Если смотреть в разрезе жанров, то средние пользовательские рейтинги разные, но здесь уже p-value ничтожно маленькое, что свидетельствует об отсутствии случайности в расчетах."
   ]
  },
  {
   "cell_type": "markdown",
   "metadata": {},
   "source": [
    "<div class=\"alert alert-block alert-danger\">\n",
    "    \n",
    "\n",
    "### Комментарий от ревьюера v_1\n",
    "Критично\n",
    "\n",
    "Результат теста прямо противоположный\n",
    "</div>"
   ]
  },
  {
   "cell_type": "markdown",
   "metadata": {},
   "source": [
    " <div class=\"alert alert-info\" style=\"box-shadow: 4px 4px 4px\">\n",
    "<b>Комментарий студента:</b> Максим, в общем и целом я поменяла в этом шаге три слова, в формулировании гипотез и выводе, ты сам написал, какие. Код не трогала 😬🙈\n",
    "<br>\n",
    "</div>"
   ]
  },
  {
   "cell_type": "markdown",
   "metadata": {},
   "source": [
    "## Общий вывод\n",
    "\n",
    "По результатам проведенного исследования можно сделать следующие выводы:\n",
    "1. Платформа за некоторыми исключениями живет в среднем 10 лет, из которых рост продаж происходит на горизонте 5 лет, после прохождения пика продажи колоссально падает до минимальных значений к 10му году.\n",
    "2. Оценки критиков влияют на продажи игр, расчетные коэффициенты корреляции с положительными значениями: чем лучше оценка, тем выше продажи. Однако, пользовательские оценки не принимаются в расчет при покупке игр, продажи могут достигать максимума даже при средних оценках юзеров.\n",
    "3. Японские геймеры разительно отличаются от своих американских и европейских товарищей, предпочитая другие платформы и контрастные жанры. Также в Японии наибольшей популярностью пользуются игры для подростков, в то время как на Западе пользователи предпочитают зрелые игры.\n",
    "4. Проверка статистических гипотез подтверждает равенство средних рейтингов по платформам, однако, опровергает равенство рейтингов по жанрам, из чего следует, что пользователи могут отдавать предпочтение абсолютно разным жанрам."
   ]
  },
  {
   "cell_type": "markdown",
   "metadata": {},
   "source": [
    "<div class=\"alert alert-block alert-success\">\n",
    "\n",
    "    \n",
    "### Комментарий от ревьюера v_1\n",
    "\n",
    "Отличный вывод 👍\n",
    "    \n",
    "Но 4-й пункт надо пересмотреть)\n",
    "    \n",
    "</div>"
   ]
  },
  {
   "cell_type": "code",
   "execution_count": null,
   "metadata": {},
   "outputs": [],
   "source": []
  }
 ],
 "metadata": {
  "ExecuteTimeLog": [
   {
    "duration": 1068,
    "start_time": "2022-01-17T17:15:29.103Z"
   },
   {
    "duration": 47,
    "start_time": "2022-01-17T17:16:12.395Z"
   },
   {
    "duration": 352,
    "start_time": "2022-01-17T17:16:26.075Z"
   },
   {
    "duration": 16,
    "start_time": "2022-01-17T17:16:33.932Z"
   },
   {
    "duration": 7,
    "start_time": "2022-01-17T17:25:13.917Z"
   },
   {
    "duration": 14,
    "start_time": "2022-01-17T17:26:23.314Z"
   },
   {
    "duration": 4,
    "start_time": "2022-01-17T17:52:21.630Z"
   },
   {
    "duration": 13,
    "start_time": "2022-01-17T17:52:46.779Z"
   },
   {
    "duration": 12,
    "start_time": "2022-01-17T17:53:06.603Z"
   },
   {
    "duration": 9,
    "start_time": "2022-01-17T17:53:18.289Z"
   },
   {
    "duration": 274,
    "start_time": "2022-01-17T17:55:47.688Z"
   },
   {
    "duration": 253,
    "start_time": "2022-01-17T17:55:56.024Z"
   },
   {
    "duration": 3,
    "start_time": "2022-01-17T17:56:09.693Z"
   },
   {
    "duration": 251,
    "start_time": "2022-01-17T17:56:12.838Z"
   },
   {
    "duration": 254,
    "start_time": "2022-01-17T17:56:32.236Z"
   },
   {
    "duration": 484,
    "start_time": "2022-01-17T17:56:41.623Z"
   },
   {
    "duration": 269,
    "start_time": "2022-01-17T18:01:22.383Z"
   },
   {
    "duration": 306,
    "start_time": "2022-01-17T18:02:07.048Z"
   },
   {
    "duration": 270,
    "start_time": "2022-01-17T18:02:09.526Z"
   },
   {
    "duration": 84,
    "start_time": "2022-01-17T18:07:23.472Z"
   },
   {
    "duration": 2,
    "start_time": "2022-01-17T18:07:32.315Z"
   },
   {
    "duration": 253,
    "start_time": "2022-01-17T18:07:35.144Z"
   },
   {
    "duration": 3,
    "start_time": "2022-01-17T18:08:16.532Z"
   },
   {
    "duration": 257,
    "start_time": "2022-01-17T18:08:18.500Z"
   },
   {
    "duration": 315,
    "start_time": "2022-01-17T18:08:46.647Z"
   },
   {
    "duration": 250,
    "start_time": "2022-01-17T18:08:50.157Z"
   },
   {
    "duration": 3,
    "start_time": "2022-01-17T18:08:53.383Z"
   },
   {
    "duration": 63,
    "start_time": "2022-01-17T18:08:53.387Z"
   },
   {
    "duration": 13,
    "start_time": "2022-01-17T18:08:53.452Z"
   },
   {
    "duration": 31,
    "start_time": "2022-01-17T18:08:53.467Z"
   },
   {
    "duration": 24,
    "start_time": "2022-01-17T18:08:53.500Z"
   },
   {
    "duration": 23,
    "start_time": "2022-01-17T18:08:53.526Z"
   },
   {
    "duration": 14,
    "start_time": "2022-01-17T18:08:58.004Z"
   },
   {
    "duration": 3,
    "start_time": "2022-01-17T18:09:51.889Z"
   },
   {
    "duration": 48,
    "start_time": "2022-01-17T18:09:51.894Z"
   },
   {
    "duration": 13,
    "start_time": "2022-01-17T18:09:51.948Z"
   },
   {
    "duration": 11,
    "start_time": "2022-01-17T18:09:51.963Z"
   },
   {
    "duration": 11,
    "start_time": "2022-01-17T18:09:51.977Z"
   },
   {
    "duration": 4,
    "start_time": "2022-01-17T18:09:56.309Z"
   },
   {
    "duration": 14,
    "start_time": "2022-01-17T18:10:02.785Z"
   },
   {
    "duration": 3,
    "start_time": "2022-01-17T18:10:16.272Z"
   },
   {
    "duration": 58,
    "start_time": "2022-01-17T18:10:16.277Z"
   },
   {
    "duration": 13,
    "start_time": "2022-01-17T18:10:16.338Z"
   },
   {
    "duration": 10,
    "start_time": "2022-01-17T18:10:16.354Z"
   },
   {
    "duration": 25,
    "start_time": "2022-01-17T18:10:16.365Z"
   },
   {
    "duration": 3,
    "start_time": "2022-01-17T18:10:23.992Z"
   },
   {
    "duration": 520,
    "start_time": "2022-01-17T18:10:30.545Z"
   },
   {
    "duration": 3,
    "start_time": "2022-01-17T18:11:06.901Z"
   },
   {
    "duration": 50,
    "start_time": "2022-01-17T18:11:06.906Z"
   },
   {
    "duration": 13,
    "start_time": "2022-01-17T18:11:06.958Z"
   },
   {
    "duration": 11,
    "start_time": "2022-01-17T18:11:06.973Z"
   },
   {
    "duration": 20,
    "start_time": "2022-01-17T18:11:06.986Z"
   },
   {
    "duration": 8,
    "start_time": "2022-01-17T18:11:11.246Z"
   },
   {
    "duration": 18,
    "start_time": "2022-01-17T18:11:13.286Z"
   },
   {
    "duration": 278,
    "start_time": "2022-01-17T18:22:37.822Z"
   },
   {
    "duration": 460,
    "start_time": "2022-01-17T18:25:13.541Z"
   },
   {
    "duration": 4,
    "start_time": "2022-01-17T18:26:11.730Z"
   },
   {
    "duration": 87,
    "start_time": "2022-01-17T18:28:52.544Z"
   },
   {
    "duration": 3,
    "start_time": "2022-01-17T18:28:58.602Z"
   },
   {
    "duration": 64,
    "start_time": "2022-01-17T18:28:58.607Z"
   },
   {
    "duration": 12,
    "start_time": "2022-01-17T18:28:58.673Z"
   },
   {
    "duration": 20,
    "start_time": "2022-01-17T18:28:58.687Z"
   },
   {
    "duration": 18,
    "start_time": "2022-01-17T18:28:58.708Z"
   },
   {
    "duration": 16,
    "start_time": "2022-01-17T18:28:58.728Z"
   },
   {
    "duration": 17,
    "start_time": "2022-01-17T18:28:58.746Z"
   },
   {
    "duration": 107,
    "start_time": "2022-01-17T18:29:02.194Z"
   },
   {
    "duration": 8,
    "start_time": "2022-01-17T18:29:27.804Z"
   },
   {
    "duration": 12,
    "start_time": "2022-01-17T18:29:38.974Z"
   },
   {
    "duration": 3,
    "start_time": "2022-01-17T18:30:12.552Z"
   },
   {
    "duration": 47,
    "start_time": "2022-01-17T18:30:12.557Z"
   },
   {
    "duration": 12,
    "start_time": "2022-01-17T18:30:12.606Z"
   },
   {
    "duration": 12,
    "start_time": "2022-01-17T18:30:12.620Z"
   },
   {
    "duration": 12,
    "start_time": "2022-01-17T18:30:12.634Z"
   },
   {
    "duration": 7,
    "start_time": "2022-01-17T18:30:12.648Z"
   },
   {
    "duration": 5,
    "start_time": "2022-01-17T18:30:12.656Z"
   },
   {
    "duration": 8,
    "start_time": "2022-01-17T18:30:12.663Z"
   },
   {
    "duration": 12,
    "start_time": "2022-01-17T18:30:14.890Z"
   },
   {
    "duration": 6,
    "start_time": "2022-01-17T18:31:14.889Z"
   },
   {
    "duration": 11,
    "start_time": "2022-01-17T18:31:16.537Z"
   },
   {
    "duration": 282,
    "start_time": "2022-01-17T18:33:30.721Z"
   },
   {
    "duration": 9,
    "start_time": "2022-01-17T18:35:55.716Z"
   },
   {
    "duration": 12,
    "start_time": "2022-01-17T18:35:58.406Z"
   },
   {
    "duration": 5,
    "start_time": "2022-01-17T18:36:12.592Z"
   },
   {
    "duration": 13,
    "start_time": "2022-01-17T18:36:20.455Z"
   },
   {
    "duration": 3,
    "start_time": "2022-01-17T18:42:48.456Z"
   },
   {
    "duration": 47,
    "start_time": "2022-01-17T18:42:48.461Z"
   },
   {
    "duration": 13,
    "start_time": "2022-01-17T18:42:48.510Z"
   },
   {
    "duration": 9,
    "start_time": "2022-01-17T18:42:48.524Z"
   },
   {
    "duration": 9,
    "start_time": "2022-01-17T18:42:48.535Z"
   },
   {
    "duration": 7,
    "start_time": "2022-01-17T18:42:48.546Z"
   },
   {
    "duration": 283,
    "start_time": "2022-01-17T18:42:48.554Z"
   },
   {
    "duration": -944,
    "start_time": "2022-01-17T18:42:49.783Z"
   },
   {
    "duration": -993,
    "start_time": "2022-01-17T18:42:49.834Z"
   },
   {
    "duration": 4,
    "start_time": "2022-01-17T18:43:41.324Z"
   },
   {
    "duration": 5,
    "start_time": "2022-01-17T18:43:42.916Z"
   },
   {
    "duration": 5,
    "start_time": "2022-01-17T18:43:44.223Z"
   },
   {
    "duration": 13,
    "start_time": "2022-01-17T18:43:45.113Z"
   },
   {
    "duration": 12,
    "start_time": "2022-01-17T18:45:53.010Z"
   },
   {
    "duration": 8,
    "start_time": "2022-01-17T19:01:43.825Z"
   },
   {
    "duration": 7,
    "start_time": "2022-01-17T19:02:00.588Z"
   },
   {
    "duration": 93,
    "start_time": "2022-01-17T19:23:46.986Z"
   },
   {
    "duration": 6,
    "start_time": "2022-01-17T19:24:03.362Z"
   },
   {
    "duration": 7,
    "start_time": "2022-01-17T19:28:35.786Z"
   },
   {
    "duration": 290,
    "start_time": "2022-01-17T19:30:30.034Z"
   },
   {
    "duration": 289,
    "start_time": "2022-01-17T19:31:51.291Z"
   },
   {
    "duration": 305,
    "start_time": "2022-01-17T19:33:53.998Z"
   },
   {
    "duration": 304,
    "start_time": "2022-01-17T19:34:13.986Z"
   },
   {
    "duration": 11,
    "start_time": "2022-01-17T19:39:02.676Z"
   },
   {
    "duration": 6563,
    "start_time": "2022-01-17T19:39:42.038Z"
   },
   {
    "duration": 6993,
    "start_time": "2022-01-17T19:43:45.823Z"
   },
   {
    "duration": 5,
    "start_time": "2022-01-17T19:49:05.715Z"
   },
   {
    "duration": 7,
    "start_time": "2022-01-17T19:49:07.711Z"
   },
   {
    "duration": 320,
    "start_time": "2022-01-17T19:50:15.814Z"
   },
   {
    "duration": 256,
    "start_time": "2022-01-17T19:51:54.652Z"
   },
   {
    "duration": 275,
    "start_time": "2022-01-17T19:52:34.494Z"
   },
   {
    "duration": 271,
    "start_time": "2022-01-17T19:54:16.917Z"
   },
   {
    "duration": 1133,
    "start_time": "2022-01-17T19:54:28.218Z"
   },
   {
    "duration": 259,
    "start_time": "2022-01-17T19:54:52.858Z"
   },
   {
    "duration": 4,
    "start_time": "2022-01-17T19:56:13.003Z"
   },
   {
    "duration": 5,
    "start_time": "2022-01-17T19:56:19.423Z"
   },
   {
    "duration": 5133,
    "start_time": "2022-01-17T19:56:26.699Z"
   },
   {
    "duration": 7,
    "start_time": "2022-01-17T19:56:46.536Z"
   },
   {
    "duration": 811,
    "start_time": "2022-01-17T19:59:00.367Z"
   },
   {
    "duration": 196,
    "start_time": "2022-01-17T19:59:23.266Z"
   },
   {
    "duration": 334,
    "start_time": "2022-01-17T19:59:42.281Z"
   },
   {
    "duration": 309,
    "start_time": "2022-01-17T20:00:02.954Z"
   },
   {
    "duration": 217,
    "start_time": "2022-01-17T20:00:11.558Z"
   },
   {
    "duration": 187,
    "start_time": "2022-01-17T20:00:29.439Z"
   },
   {
    "duration": 185,
    "start_time": "2022-01-17T20:00:38.130Z"
   },
   {
    "duration": 187,
    "start_time": "2022-01-17T20:00:46.382Z"
   },
   {
    "duration": 184,
    "start_time": "2022-01-17T20:03:57.339Z"
   },
   {
    "duration": 280,
    "start_time": "2022-01-17T20:04:02.624Z"
   },
   {
    "duration": 235,
    "start_time": "2022-01-17T20:04:10.790Z"
   },
   {
    "duration": 12,
    "start_time": "2022-01-17T20:06:02.227Z"
   },
   {
    "duration": 17,
    "start_time": "2022-01-17T20:06:25.189Z"
   },
   {
    "duration": 17,
    "start_time": "2022-01-17T20:07:11.115Z"
   },
   {
    "duration": 22,
    "start_time": "2022-01-17T20:07:36.836Z"
   },
   {
    "duration": 304,
    "start_time": "2022-01-17T20:08:11.391Z"
   },
   {
    "duration": 287,
    "start_time": "2022-01-17T20:08:17.614Z"
   },
   {
    "duration": 20,
    "start_time": "2022-01-17T20:08:54.967Z"
   },
   {
    "duration": 1071,
    "start_time": "2022-01-18T04:47:39.412Z"
   },
   {
    "duration": 43,
    "start_time": "2022-01-18T04:47:40.485Z"
   },
   {
    "duration": 15,
    "start_time": "2022-01-18T04:47:40.531Z"
   },
   {
    "duration": 7,
    "start_time": "2022-01-18T04:47:40.548Z"
   },
   {
    "duration": 10,
    "start_time": "2022-01-18T04:47:40.556Z"
   },
   {
    "duration": 35,
    "start_time": "2022-01-18T04:47:40.568Z"
   },
   {
    "duration": 6,
    "start_time": "2022-01-18T04:47:40.604Z"
   },
   {
    "duration": 6,
    "start_time": "2022-01-18T04:47:40.611Z"
   },
   {
    "duration": 7,
    "start_time": "2022-01-18T04:47:40.620Z"
   },
   {
    "duration": 13,
    "start_time": "2022-01-18T04:47:40.629Z"
   },
   {
    "duration": 13,
    "start_time": "2022-01-18T04:47:40.644Z"
   },
   {
    "duration": 41,
    "start_time": "2022-01-18T04:47:40.659Z"
   },
   {
    "duration": 21,
    "start_time": "2022-01-18T04:47:40.702Z"
   },
   {
    "duration": 14,
    "start_time": "2022-01-18T04:47:40.724Z"
   },
   {
    "duration": 7,
    "start_time": "2022-01-18T04:47:40.740Z"
   },
   {
    "duration": 8,
    "start_time": "2022-01-18T04:47:40.748Z"
   },
   {
    "duration": 222,
    "start_time": "2022-01-18T04:47:47.686Z"
   },
   {
    "duration": 519,
    "start_time": "2022-01-18T04:47:56.832Z"
   },
   {
    "duration": 23074,
    "start_time": "2022-01-18T04:48:35.731Z"
   },
   {
    "duration": 22992,
    "start_time": "2022-01-18T04:49:19.054Z"
   },
   {
    "duration": 24409,
    "start_time": "2022-01-18T04:56:00.107Z"
   },
   {
    "duration": 25454,
    "start_time": "2022-01-18T04:57:05.812Z"
   },
   {
    "duration": 25803,
    "start_time": "2022-01-18T05:00:12.344Z"
   },
   {
    "duration": 24993,
    "start_time": "2022-01-18T05:01:14.471Z"
   },
   {
    "duration": 25118,
    "start_time": "2022-01-18T05:02:09.849Z"
   },
   {
    "duration": 26440,
    "start_time": "2022-01-18T05:08:43.951Z"
   },
   {
    "duration": 5,
    "start_time": "2022-01-18T05:14:26.550Z"
   },
   {
    "duration": 220,
    "start_time": "2022-01-18T05:14:36.678Z"
   },
   {
    "duration": 6,
    "start_time": "2022-01-18T05:15:09.162Z"
   },
   {
    "duration": 1403,
    "start_time": "2022-01-19T16:10:50.128Z"
   },
   {
    "duration": 60,
    "start_time": "2022-01-19T16:10:52.270Z"
   },
   {
    "duration": 22,
    "start_time": "2022-01-19T16:10:54.211Z"
   },
   {
    "duration": 10,
    "start_time": "2022-01-19T16:11:13.229Z"
   },
   {
    "duration": 6,
    "start_time": "2022-01-19T16:11:22.478Z"
   },
   {
    "duration": 7,
    "start_time": "2022-01-19T16:11:25.516Z"
   },
   {
    "duration": 11,
    "start_time": "2022-01-19T16:11:30.110Z"
   },
   {
    "duration": 25,
    "start_time": "2022-01-19T16:11:31.603Z"
   },
   {
    "duration": 16,
    "start_time": "2022-01-19T16:11:51.739Z"
   },
   {
    "duration": 13,
    "start_time": "2022-01-19T16:12:09.409Z"
   },
   {
    "duration": 11,
    "start_time": "2022-01-19T16:12:14.302Z"
   },
   {
    "duration": 7,
    "start_time": "2022-01-19T16:12:25.197Z"
   },
   {
    "duration": 13,
    "start_time": "2022-01-19T16:13:51.907Z"
   },
   {
    "duration": 348,
    "start_time": "2022-01-19T16:14:39.376Z"
   },
   {
    "duration": 14,
    "start_time": "2022-01-19T16:21:23.463Z"
   },
   {
    "duration": 345,
    "start_time": "2022-01-19T16:21:42.635Z"
   },
   {
    "duration": 13,
    "start_time": "2022-01-19T16:22:12.201Z"
   },
   {
    "duration": 338,
    "start_time": "2022-01-19T16:22:31.770Z"
   },
   {
    "duration": 13,
    "start_time": "2022-01-19T16:23:11.796Z"
   },
   {
    "duration": 416,
    "start_time": "2022-01-19T16:23:26.008Z"
   },
   {
    "duration": 13,
    "start_time": "2022-01-19T16:24:07.352Z"
   },
   {
    "duration": 325,
    "start_time": "2022-01-19T16:24:21.406Z"
   },
   {
    "duration": 16,
    "start_time": "2022-01-19T16:26:32.866Z"
   },
   {
    "duration": 288,
    "start_time": "2022-01-19T16:26:50.757Z"
   },
   {
    "duration": 14,
    "start_time": "2022-01-19T16:30:28.943Z"
   },
   {
    "duration": 13,
    "start_time": "2022-01-19T16:30:51.156Z"
   },
   {
    "duration": 15,
    "start_time": "2022-01-19T16:31:09.163Z"
   },
   {
    "duration": 412,
    "start_time": "2022-01-19T16:35:44.837Z"
   },
   {
    "duration": 6,
    "start_time": "2022-01-19T16:36:32.259Z"
   },
   {
    "duration": 23,
    "start_time": "2022-01-19T16:36:47.804Z"
   },
   {
    "duration": 11,
    "start_time": "2022-01-19T16:37:10.979Z"
   },
   {
    "duration": 12,
    "start_time": "2022-01-19T16:39:00.373Z"
   },
   {
    "duration": 15,
    "start_time": "2022-01-19T16:44:03.679Z"
   },
   {
    "duration": 6,
    "start_time": "2022-01-19T16:49:16.789Z"
   },
   {
    "duration": 21,
    "start_time": "2022-01-19T16:49:18.705Z"
   },
   {
    "duration": 14,
    "start_time": "2022-01-19T16:49:23.054Z"
   },
   {
    "duration": 11,
    "start_time": "2022-01-19T16:49:30.394Z"
   },
   {
    "duration": 13,
    "start_time": "2022-01-19T16:49:39.068Z"
   },
   {
    "duration": 339,
    "start_time": "2022-01-19T16:49:49.942Z"
   },
   {
    "duration": 14,
    "start_time": "2022-01-19T16:49:57.000Z"
   },
   {
    "duration": 343,
    "start_time": "2022-01-19T16:50:03.011Z"
   },
   {
    "duration": 13,
    "start_time": "2022-01-19T16:50:16.363Z"
   },
   {
    "duration": 434,
    "start_time": "2022-01-19T16:50:21.237Z"
   },
   {
    "duration": 14,
    "start_time": "2022-01-19T16:50:31.002Z"
   },
   {
    "duration": 493,
    "start_time": "2022-01-19T16:50:36.184Z"
   },
   {
    "duration": 15,
    "start_time": "2022-01-19T16:50:49.463Z"
   },
   {
    "duration": 715,
    "start_time": "2022-01-19T16:50:56.450Z"
   },
   {
    "duration": 12,
    "start_time": "2022-01-19T16:55:12.357Z"
   },
   {
    "duration": 262,
    "start_time": "2022-01-19T16:55:17.251Z"
   },
   {
    "duration": 12,
    "start_time": "2022-01-19T16:55:22.723Z"
   },
   {
    "duration": 10,
    "start_time": "2022-01-19T16:55:28.464Z"
   },
   {
    "duration": 13,
    "start_time": "2022-01-19T16:55:30.894Z"
   },
   {
    "duration": 12,
    "start_time": "2022-01-19T16:55:37.936Z"
   },
   {
    "duration": 269,
    "start_time": "2022-01-19T18:33:18.284Z"
   },
   {
    "duration": 299,
    "start_time": "2022-01-19T18:33:30.154Z"
   },
   {
    "duration": 28,
    "start_time": "2022-01-19T18:33:59.883Z"
   },
   {
    "duration": 20,
    "start_time": "2022-01-19T18:35:03.345Z"
   },
   {
    "duration": 27,
    "start_time": "2022-01-19T18:35:27.997Z"
   },
   {
    "duration": 335,
    "start_time": "2022-01-19T18:45:18.859Z"
   },
   {
    "duration": 247,
    "start_time": "2022-01-19T18:45:47.086Z"
   },
   {
    "duration": 247,
    "start_time": "2022-01-19T18:47:01.211Z"
   },
   {
    "duration": 250,
    "start_time": "2022-01-19T18:47:10.478Z"
   },
   {
    "duration": 469,
    "start_time": "2022-01-19T18:47:37.004Z"
   },
   {
    "duration": 476,
    "start_time": "2022-01-19T18:48:08.213Z"
   },
   {
    "duration": 7246,
    "start_time": "2022-01-19T18:49:46.059Z"
   },
   {
    "duration": 514,
    "start_time": "2022-01-19T18:50:06.300Z"
   },
   {
    "duration": 479,
    "start_time": "2022-01-19T18:52:52.552Z"
   },
   {
    "duration": 471,
    "start_time": "2022-01-19T18:53:03.061Z"
   },
   {
    "duration": 2881,
    "start_time": "2022-01-19T18:56:46.737Z"
   },
   {
    "duration": 469,
    "start_time": "2022-01-19T18:57:34.708Z"
   },
   {
    "duration": 223,
    "start_time": "2022-01-19T18:58:13.920Z"
   },
   {
    "duration": 225,
    "start_time": "2022-01-19T18:58:47.284Z"
   },
   {
    "duration": 218,
    "start_time": "2022-01-19T19:00:24.517Z"
   },
   {
    "duration": 207,
    "start_time": "2022-01-19T19:01:15.408Z"
   },
   {
    "duration": 44,
    "start_time": "2022-01-19T19:03:30.934Z"
   },
   {
    "duration": 408,
    "start_time": "2022-01-19T19:14:14.155Z"
   },
   {
    "duration": 43,
    "start_time": "2022-01-19T19:14:50.358Z"
   },
   {
    "duration": 464,
    "start_time": "2022-01-19T19:15:22.921Z"
   },
   {
    "duration": 7,
    "start_time": "2022-01-19T19:17:17.899Z"
   },
   {
    "duration": 26,
    "start_time": "2022-01-19T19:17:44.102Z"
   },
   {
    "duration": 46,
    "start_time": "2022-01-19T19:18:12.844Z"
   },
   {
    "duration": 442,
    "start_time": "2022-01-19T19:18:44.688Z"
   },
   {
    "duration": 458,
    "start_time": "2022-01-19T19:19:20.221Z"
   },
   {
    "duration": 7,
    "start_time": "2022-01-19T19:21:42.413Z"
   },
   {
    "duration": 286,
    "start_time": "2022-01-19T19:24:08.353Z"
   },
   {
    "duration": 4,
    "start_time": "2022-01-19T19:25:44.922Z"
   },
   {
    "duration": 68,
    "start_time": "2022-01-19T19:25:44.930Z"
   },
   {
    "duration": 19,
    "start_time": "2022-01-19T19:25:45.001Z"
   },
   {
    "duration": 9,
    "start_time": "2022-01-19T19:25:45.317Z"
   },
   {
    "duration": 5,
    "start_time": "2022-01-19T19:25:45.328Z"
   },
   {
    "duration": 7,
    "start_time": "2022-01-19T19:25:45.385Z"
   },
   {
    "duration": 8,
    "start_time": "2022-01-19T19:25:45.396Z"
   },
   {
    "duration": 21,
    "start_time": "2022-01-19T19:25:45.406Z"
   },
   {
    "duration": 17,
    "start_time": "2022-01-19T19:25:45.429Z"
   },
   {
    "duration": 15,
    "start_time": "2022-01-19T19:25:45.474Z"
   },
   {
    "duration": 13,
    "start_time": "2022-01-19T19:25:45.493Z"
   },
   {
    "duration": 424,
    "start_time": "2022-01-19T19:25:45.508Z"
   },
   {
    "duration": 13,
    "start_time": "2022-01-19T19:25:45.934Z"
   },
   {
    "duration": 418,
    "start_time": "2022-01-19T19:25:45.950Z"
   },
   {
    "duration": 17,
    "start_time": "2022-01-19T19:25:46.375Z"
   },
   {
    "duration": 396,
    "start_time": "2022-01-19T19:25:46.396Z"
   },
   {
    "duration": 13,
    "start_time": "2022-01-19T19:25:46.795Z"
   },
   {
    "duration": 418,
    "start_time": "2022-01-19T19:25:46.810Z"
   },
   {
    "duration": 16,
    "start_time": "2022-01-19T19:25:47.230Z"
   },
   {
    "duration": 397,
    "start_time": "2022-01-19T19:25:47.249Z"
   },
   {
    "duration": 29,
    "start_time": "2022-01-19T19:25:47.649Z"
   },
   {
    "duration": 350,
    "start_time": "2022-01-19T19:25:47.681Z"
   },
   {
    "duration": 13,
    "start_time": "2022-01-19T19:25:48.034Z"
   },
   {
    "duration": 68,
    "start_time": "2022-01-19T19:25:48.049Z"
   },
   {
    "duration": 54,
    "start_time": "2022-01-19T19:25:48.120Z"
   },
   {
    "duration": 516,
    "start_time": "2022-01-19T19:25:48.178Z"
   },
   {
    "duration": 423,
    "start_time": "2022-01-19T19:25:48.698Z"
   },
   {
    "duration": 8,
    "start_time": "2022-01-19T19:25:49.124Z"
   },
   {
    "duration": 493,
    "start_time": "2022-01-19T19:25:55.449Z"
   },
   {
    "duration": 10,
    "start_time": "2022-01-19T19:26:15.236Z"
   },
   {
    "duration": 4,
    "start_time": "2022-01-19T19:29:17.033Z"
   },
   {
    "duration": 58,
    "start_time": "2022-01-19T19:29:17.040Z"
   },
   {
    "duration": 18,
    "start_time": "2022-01-19T19:29:17.101Z"
   },
   {
    "duration": 10,
    "start_time": "2022-01-19T19:29:17.122Z"
   },
   {
    "duration": 23,
    "start_time": "2022-01-19T19:29:17.149Z"
   },
   {
    "duration": 15,
    "start_time": "2022-01-19T19:29:17.174Z"
   },
   {
    "duration": 8,
    "start_time": "2022-01-19T19:29:17.192Z"
   },
   {
    "duration": 25,
    "start_time": "2022-01-19T19:29:17.203Z"
   },
   {
    "duration": 42,
    "start_time": "2022-01-19T19:29:17.230Z"
   },
   {
    "duration": 10,
    "start_time": "2022-01-19T19:29:17.274Z"
   },
   {
    "duration": 13,
    "start_time": "2022-01-19T19:29:17.287Z"
   },
   {
    "duration": 381,
    "start_time": "2022-01-19T19:29:17.302Z"
   },
   {
    "duration": 14,
    "start_time": "2022-01-19T19:29:17.687Z"
   },
   {
    "duration": 462,
    "start_time": "2022-01-19T19:29:17.703Z"
   },
   {
    "duration": 13,
    "start_time": "2022-01-19T19:29:18.169Z"
   },
   {
    "duration": 367,
    "start_time": "2022-01-19T19:29:18.185Z"
   },
   {
    "duration": 24,
    "start_time": "2022-01-19T19:29:18.554Z"
   },
   {
    "duration": 349,
    "start_time": "2022-01-19T19:29:18.581Z"
   },
   {
    "duration": 12,
    "start_time": "2022-01-19T19:29:18.933Z"
   },
   {
    "duration": 354,
    "start_time": "2022-01-19T19:29:18.947Z"
   },
   {
    "duration": 12,
    "start_time": "2022-01-19T19:29:19.303Z"
   },
   {
    "duration": 291,
    "start_time": "2022-01-19T19:29:19.317Z"
   },
   {
    "duration": 13,
    "start_time": "2022-01-19T19:29:19.610Z"
   },
   {
    "duration": 64,
    "start_time": "2022-01-19T19:29:19.625Z"
   },
   {
    "duration": 28,
    "start_time": "2022-01-19T19:29:19.691Z"
   },
   {
    "duration": 475,
    "start_time": "2022-01-19T19:29:19.722Z"
   },
   {
    "duration": 400,
    "start_time": "2022-01-19T19:29:20.200Z"
   },
   {
    "duration": 6,
    "start_time": "2022-01-19T19:29:20.602Z"
   },
   {
    "duration": 9,
    "start_time": "2022-01-19T19:29:27.735Z"
   },
   {
    "duration": 441,
    "start_time": "2022-01-19T19:29:35.243Z"
   },
   {
    "duration": 10,
    "start_time": "2022-01-19T19:30:55.414Z"
   },
   {
    "duration": 9,
    "start_time": "2022-01-19T19:31:08.030Z"
   },
   {
    "duration": 4,
    "start_time": "2022-01-19T19:31:22.857Z"
   },
   {
    "duration": 56,
    "start_time": "2022-01-19T19:31:22.864Z"
   },
   {
    "duration": 19,
    "start_time": "2022-01-19T19:31:22.923Z"
   },
   {
    "duration": 7336,
    "start_time": "2022-01-19T19:31:22.945Z"
   },
   {
    "duration": -743,
    "start_time": "2022-01-19T19:31:31.028Z"
   },
   {
    "duration": -745,
    "start_time": "2022-01-19T19:31:31.032Z"
   },
   {
    "duration": -745,
    "start_time": "2022-01-19T19:31:31.034Z"
   },
   {
    "duration": -851,
    "start_time": "2022-01-19T19:31:31.141Z"
   },
   {
    "duration": -851,
    "start_time": "2022-01-19T19:31:31.143Z"
   },
   {
    "duration": -890,
    "start_time": "2022-01-19T19:31:31.183Z"
   },
   {
    "duration": -896,
    "start_time": "2022-01-19T19:31:31.190Z"
   },
   {
    "duration": -940,
    "start_time": "2022-01-19T19:31:31.236Z"
   },
   {
    "duration": -940,
    "start_time": "2022-01-19T19:31:31.237Z"
   },
   {
    "duration": -990,
    "start_time": "2022-01-19T19:31:31.288Z"
   },
   {
    "duration": -991,
    "start_time": "2022-01-19T19:31:31.290Z"
   },
   {
    "duration": -1031,
    "start_time": "2022-01-19T19:31:31.332Z"
   },
   {
    "duration": -1114,
    "start_time": "2022-01-19T19:31:31.416Z"
   },
   {
    "duration": -1120,
    "start_time": "2022-01-19T19:31:31.423Z"
   },
   {
    "duration": -1120,
    "start_time": "2022-01-19T19:31:31.425Z"
   },
   {
    "duration": -1120,
    "start_time": "2022-01-19T19:31:31.426Z"
   },
   {
    "duration": -1120,
    "start_time": "2022-01-19T19:31:31.427Z"
   },
   {
    "duration": -1119,
    "start_time": "2022-01-19T19:31:31.428Z"
   },
   {
    "duration": -1120,
    "start_time": "2022-01-19T19:31:31.430Z"
   },
   {
    "duration": -1191,
    "start_time": "2022-01-19T19:31:31.502Z"
   },
   {
    "duration": -1195,
    "start_time": "2022-01-19T19:31:31.508Z"
   },
   {
    "duration": -1242,
    "start_time": "2022-01-19T19:31:31.556Z"
   },
   {
    "duration": -1242,
    "start_time": "2022-01-19T19:31:31.557Z"
   },
   {
    "duration": -1242,
    "start_time": "2022-01-19T19:31:31.559Z"
   },
   {
    "duration": -1243,
    "start_time": "2022-01-19T19:31:31.561Z"
   },
   {
    "duration": -1500,
    "start_time": "2022-01-19T19:31:31.819Z"
   },
   {
    "duration": -1500,
    "start_time": "2022-01-19T19:31:31.821Z"
   },
   {
    "duration": 6693,
    "start_time": "2022-01-19T19:31:50.209Z"
   },
   {
    "duration": 11,
    "start_time": "2022-01-19T19:32:05.579Z"
   },
   {
    "duration": 11,
    "start_time": "2022-01-19T19:32:17.119Z"
   },
   {
    "duration": 12,
    "start_time": "2022-01-19T19:32:17.134Z"
   },
   {
    "duration": 7,
    "start_time": "2022-01-19T19:32:17.149Z"
   },
   {
    "duration": 10,
    "start_time": "2022-01-19T19:32:17.168Z"
   },
   {
    "duration": 12,
    "start_time": "2022-01-19T19:32:17.182Z"
   },
   {
    "duration": 6,
    "start_time": "2022-01-19T19:32:17.197Z"
   },
   {
    "duration": 23,
    "start_time": "2022-01-19T19:32:17.206Z"
   },
   {
    "duration": 18,
    "start_time": "2022-01-19T19:32:17.270Z"
   },
   {
    "duration": 14,
    "start_time": "2022-01-19T19:32:17.291Z"
   },
   {
    "duration": 18,
    "start_time": "2022-01-19T19:32:17.308Z"
   },
   {
    "duration": 381,
    "start_time": "2022-01-19T19:32:17.370Z"
   },
   {
    "duration": 23,
    "start_time": "2022-01-19T19:32:17.754Z"
   },
   {
    "duration": 375,
    "start_time": "2022-01-19T19:32:17.780Z"
   },
   {
    "duration": 15,
    "start_time": "2022-01-19T19:32:18.169Z"
   },
   {
    "duration": 452,
    "start_time": "2022-01-19T19:32:18.187Z"
   },
   {
    "duration": 13,
    "start_time": "2022-01-19T19:32:18.641Z"
   },
   {
    "duration": 463,
    "start_time": "2022-01-19T19:32:18.670Z"
   },
   {
    "duration": 14,
    "start_time": "2022-01-19T19:32:19.135Z"
   },
   {
    "duration": 370,
    "start_time": "2022-01-19T19:32:19.151Z"
   },
   {
    "duration": 13,
    "start_time": "2022-01-19T19:32:19.525Z"
   },
   {
    "duration": 300,
    "start_time": "2022-01-19T19:32:19.542Z"
   },
   {
    "duration": 26,
    "start_time": "2022-01-19T19:32:19.845Z"
   },
   {
    "duration": 44,
    "start_time": "2022-01-19T19:32:19.873Z"
   },
   {
    "duration": 51,
    "start_time": "2022-01-19T19:32:19.920Z"
   },
   {
    "duration": 463,
    "start_time": "2022-01-19T19:32:19.973Z"
   },
   {
    "duration": 430,
    "start_time": "2022-01-19T19:32:20.439Z"
   },
   {
    "duration": 8,
    "start_time": "2022-01-19T19:32:20.872Z"
   },
   {
    "duration": 15,
    "start_time": "2022-01-19T19:32:20.883Z"
   },
   {
    "duration": 496,
    "start_time": "2022-01-19T19:32:20.900Z"
   },
   {
    "duration": 4,
    "start_time": "2022-01-19T19:33:13.792Z"
   },
   {
    "duration": 58,
    "start_time": "2022-01-19T19:33:13.800Z"
   },
   {
    "duration": 18,
    "start_time": "2022-01-19T19:33:13.861Z"
   },
   {
    "duration": 10,
    "start_time": "2022-01-19T19:33:13.882Z"
   },
   {
    "duration": 9,
    "start_time": "2022-01-19T19:33:13.895Z"
   },
   {
    "duration": 5,
    "start_time": "2022-01-19T19:33:13.906Z"
   },
   {
    "duration": 9,
    "start_time": "2022-01-19T19:33:18.430Z"
   },
   {
    "duration": 10,
    "start_time": "2022-01-19T19:33:37.519Z"
   },
   {
    "duration": 7,
    "start_time": "2022-01-19T19:34:40.343Z"
   },
   {
    "duration": 4,
    "start_time": "2022-01-19T19:34:50.925Z"
   },
   {
    "duration": 55,
    "start_time": "2022-01-19T19:34:52.202Z"
   },
   {
    "duration": 20,
    "start_time": "2022-01-19T19:34:54.702Z"
   },
   {
    "duration": 11,
    "start_time": "2022-01-19T19:34:57.188Z"
   },
   {
    "duration": 8,
    "start_time": "2022-01-19T19:35:19.016Z"
   },
   {
    "duration": 4,
    "start_time": "2022-01-19T19:36:00.327Z"
   },
   {
    "duration": 63,
    "start_time": "2022-01-19T19:36:00.334Z"
   },
   {
    "duration": 19,
    "start_time": "2022-01-19T19:36:00.400Z"
   },
   {
    "duration": 17,
    "start_time": "2022-01-19T19:36:00.421Z"
   },
   {
    "duration": 17,
    "start_time": "2022-01-19T19:36:00.440Z"
   },
   {
    "duration": 18,
    "start_time": "2022-01-19T19:36:00.459Z"
   },
   {
    "duration": 12,
    "start_time": "2022-01-19T19:36:00.480Z"
   },
   {
    "duration": 12,
    "start_time": "2022-01-19T19:36:00.494Z"
   },
   {
    "duration": 16,
    "start_time": "2022-01-19T19:36:00.509Z"
   },
   {
    "duration": 43,
    "start_time": "2022-01-19T19:36:00.528Z"
   },
   {
    "duration": 32,
    "start_time": "2022-01-19T19:36:00.573Z"
   },
   {
    "duration": 11,
    "start_time": "2022-01-19T19:36:00.811Z"
   },
   {
    "duration": 19,
    "start_time": "2022-01-19T19:36:00.825Z"
   },
   {
    "duration": 376,
    "start_time": "2022-01-19T19:36:00.866Z"
   },
   {
    "duration": 24,
    "start_time": "2022-01-19T19:36:01.245Z"
   },
   {
    "duration": 380,
    "start_time": "2022-01-19T19:36:01.272Z"
   },
   {
    "duration": 26,
    "start_time": "2022-01-19T19:36:01.654Z"
   },
   {
    "duration": 373,
    "start_time": "2022-01-19T19:36:01.683Z"
   },
   {
    "duration": 30,
    "start_time": "2022-01-19T19:36:02.059Z"
   },
   {
    "duration": 526,
    "start_time": "2022-01-19T19:36:02.093Z"
   },
   {
    "duration": 14,
    "start_time": "2022-01-19T19:36:02.621Z"
   },
   {
    "duration": 355,
    "start_time": "2022-01-19T19:36:02.639Z"
   },
   {
    "duration": 12,
    "start_time": "2022-01-19T19:36:02.997Z"
   },
   {
    "duration": 292,
    "start_time": "2022-01-19T19:36:03.011Z"
   },
   {
    "duration": 16,
    "start_time": "2022-01-19T19:36:03.306Z"
   },
   {
    "duration": 69,
    "start_time": "2022-01-19T19:36:03.325Z"
   },
   {
    "duration": 27,
    "start_time": "2022-01-19T19:36:03.397Z"
   },
   {
    "duration": 497,
    "start_time": "2022-01-19T19:36:03.426Z"
   },
   {
    "duration": 429,
    "start_time": "2022-01-19T19:36:03.925Z"
   },
   {
    "duration": 13,
    "start_time": "2022-01-19T19:36:04.357Z"
   },
   {
    "duration": 10,
    "start_time": "2022-01-19T19:36:04.372Z"
   },
   {
    "duration": 378,
    "start_time": "2022-01-19T19:36:11.605Z"
   },
   {
    "duration": 7,
    "start_time": "2022-01-19T19:37:27.110Z"
   },
   {
    "duration": 427,
    "start_time": "2022-01-19T19:46:45.930Z"
   },
   {
    "duration": 9,
    "start_time": "2022-01-19T19:47:33.790Z"
   },
   {
    "duration": 434,
    "start_time": "2022-01-19T19:47:46.545Z"
   },
   {
    "duration": 10,
    "start_time": "2022-01-19T19:47:48.705Z"
   },
   {
    "duration": 438,
    "start_time": "2022-01-19T19:47:54.246Z"
   },
   {
    "duration": 10,
    "start_time": "2022-01-19T19:48:29.058Z"
   },
   {
    "duration": 395,
    "start_time": "2022-01-19T19:49:25.574Z"
   },
   {
    "duration": 10,
    "start_time": "2022-01-19T19:50:14.136Z"
   },
   {
    "duration": 10,
    "start_time": "2022-01-19T19:53:19.860Z"
   },
   {
    "duration": 5,
    "start_time": "2022-01-19T20:10:09.134Z"
   },
   {
    "duration": 529,
    "start_time": "2022-01-19T20:10:53.950Z"
   },
   {
    "duration": 8,
    "start_time": "2022-01-19T20:11:07.684Z"
   },
   {
    "duration": 14,
    "start_time": "2022-01-19T20:11:09.244Z"
   },
   {
    "duration": 4,
    "start_time": "2022-01-19T20:11:35.031Z"
   },
   {
    "duration": 532,
    "start_time": "2022-01-19T20:11:36.283Z"
   },
   {
    "duration": 5,
    "start_time": "2022-01-19T20:14:15.622Z"
   },
   {
    "duration": 10,
    "start_time": "2022-01-19T20:14:16.815Z"
   },
   {
    "duration": 4,
    "start_time": "2022-01-19T20:15:17.985Z"
   },
   {
    "duration": 9,
    "start_time": "2022-01-19T20:15:21.854Z"
   },
   {
    "duration": 8,
    "start_time": "2022-01-19T20:15:31.766Z"
   },
   {
    "duration": 4,
    "start_time": "2022-01-19T20:15:37.055Z"
   },
   {
    "duration": 9,
    "start_time": "2022-01-19T20:15:38.455Z"
   },
   {
    "duration": 96,
    "start_time": "2022-01-19T20:15:50.690Z"
   },
   {
    "duration": 8,
    "start_time": "2022-01-19T20:16:04.202Z"
   },
   {
    "duration": 4,
    "start_time": "2022-01-19T20:17:09.686Z"
   },
   {
    "duration": 619,
    "start_time": "2022-01-19T20:17:10.380Z"
   },
   {
    "duration": 4,
    "start_time": "2022-01-19T20:17:23.471Z"
   },
   {
    "duration": 539,
    "start_time": "2022-01-19T20:17:24.328Z"
   },
   {
    "duration": 4,
    "start_time": "2022-01-19T20:18:08.486Z"
   },
   {
    "duration": 9,
    "start_time": "2022-01-19T20:18:09.198Z"
   },
   {
    "duration": 9,
    "start_time": "2022-01-19T20:18:10.214Z"
   },
   {
    "duration": 9,
    "start_time": "2022-01-19T20:18:12.112Z"
   },
   {
    "duration": 5,
    "start_time": "2022-01-19T20:18:29.328Z"
   },
   {
    "duration": 14,
    "start_time": "2022-01-19T20:18:30.017Z"
   },
   {
    "duration": 15,
    "start_time": "2022-01-19T20:18:31.250Z"
   },
   {
    "duration": 14,
    "start_time": "2022-01-19T20:18:33.383Z"
   },
   {
    "duration": 4,
    "start_time": "2022-01-19T20:19:33.648Z"
   },
   {
    "duration": 14,
    "start_time": "2022-01-19T20:19:34.296Z"
   },
   {
    "duration": 13,
    "start_time": "2022-01-19T20:19:35.190Z"
   },
   {
    "duration": 13,
    "start_time": "2022-01-19T20:19:36.423Z"
   },
   {
    "duration": 4,
    "start_time": "2022-01-19T20:20:03.970Z"
   },
   {
    "duration": 13,
    "start_time": "2022-01-19T20:20:04.319Z"
   },
   {
    "duration": 14,
    "start_time": "2022-01-19T20:20:08.250Z"
   },
   {
    "duration": 14,
    "start_time": "2022-01-19T20:20:09.201Z"
   },
   {
    "duration": 13,
    "start_time": "2022-01-19T20:31:59.965Z"
   },
   {
    "duration": 5,
    "start_time": "2022-01-19T20:49:15.939Z"
   },
   {
    "duration": 14,
    "start_time": "2022-01-19T20:49:27.579Z"
   },
   {
    "duration": 14,
    "start_time": "2022-01-19T20:49:46.689Z"
   },
   {
    "duration": 15,
    "start_time": "2022-01-19T20:50:01.128Z"
   },
   {
    "duration": 4,
    "start_time": "2022-01-19T20:50:46.679Z"
   },
   {
    "duration": 13,
    "start_time": "2022-01-19T20:51:05.454Z"
   },
   {
    "duration": 14,
    "start_time": "2022-01-19T20:51:21.172Z"
   },
   {
    "duration": 18,
    "start_time": "2022-01-19T20:51:31.122Z"
   },
   {
    "duration": 4,
    "start_time": "2022-01-19T20:54:11.586Z"
   },
   {
    "duration": 15,
    "start_time": "2022-01-19T20:54:18.515Z"
   },
   {
    "duration": 15,
    "start_time": "2022-01-19T20:54:22.790Z"
   },
   {
    "duration": 14,
    "start_time": "2022-01-19T20:54:28.122Z"
   },
   {
    "duration": 15,
    "start_time": "2022-01-19T20:54:33.604Z"
   },
   {
    "duration": 4,
    "start_time": "2022-01-19T20:54:40.003Z"
   },
   {
    "duration": 14,
    "start_time": "2022-01-19T20:54:44.921Z"
   },
   {
    "duration": 14,
    "start_time": "2022-01-19T20:54:50.416Z"
   },
   {
    "duration": 14,
    "start_time": "2022-01-19T20:54:56.107Z"
   },
   {
    "duration": 4,
    "start_time": "2022-01-19T20:55:39.448Z"
   },
   {
    "duration": 14,
    "start_time": "2022-01-19T20:56:05.892Z"
   },
   {
    "duration": 16,
    "start_time": "2022-01-19T20:56:20.018Z"
   },
   {
    "duration": 15,
    "start_time": "2022-01-19T20:56:29.453Z"
   },
   {
    "duration": 11,
    "start_time": "2022-01-19T21:10:07.766Z"
   },
   {
    "duration": 10,
    "start_time": "2022-01-19T21:11:49.188Z"
   },
   {
    "duration": 2064,
    "start_time": "2022-01-19T21:14:52.918Z"
   },
   {
    "duration": 1050,
    "start_time": "2022-01-19T21:16:19.852Z"
   },
   {
    "duration": 2180,
    "start_time": "2022-01-19T21:17:00.780Z"
   },
   {
    "duration": 10,
    "start_time": "2022-01-19T21:17:38.494Z"
   },
   {
    "duration": 97,
    "start_time": "2022-01-19T21:19:10.216Z"
   },
   {
    "duration": 274,
    "start_time": "2022-01-19T21:19:17.751Z"
   },
   {
    "duration": 461,
    "start_time": "2022-01-19T21:48:17.160Z"
   },
   {
    "duration": 258,
    "start_time": "2022-01-19T21:49:44.588Z"
   },
   {
    "duration": 16,
    "start_time": "2022-01-19T21:50:08.518Z"
   },
   {
    "duration": 13,
    "start_time": "2022-01-19T21:50:30.392Z"
   },
   {
    "duration": 1389,
    "start_time": "2022-01-20T15:52:31.334Z"
   },
   {
    "duration": 61,
    "start_time": "2022-01-20T15:52:35.377Z"
   },
   {
    "duration": 23,
    "start_time": "2022-01-20T15:52:48.790Z"
   },
   {
    "duration": 444,
    "start_time": "2022-01-20T15:53:09.274Z"
   },
   {
    "duration": 12,
    "start_time": "2022-01-20T15:53:32.133Z"
   },
   {
    "duration": 8,
    "start_time": "2022-01-20T16:12:10.003Z"
   },
   {
    "duration": 7,
    "start_time": "2022-01-20T16:12:12.216Z"
   },
   {
    "duration": 11,
    "start_time": "2022-01-20T16:14:27.679Z"
   },
   {
    "duration": 9,
    "start_time": "2022-01-20T16:16:57.104Z"
   },
   {
    "duration": 4,
    "start_time": "2022-01-20T16:17:08.414Z"
   },
   {
    "duration": 72,
    "start_time": "2022-01-20T16:17:09.053Z"
   },
   {
    "duration": 27,
    "start_time": "2022-01-20T16:17:10.874Z"
   },
   {
    "duration": 12,
    "start_time": "2022-01-20T16:17:12.001Z"
   },
   {
    "duration": 8,
    "start_time": "2022-01-20T16:17:15.654Z"
   },
   {
    "duration": 6,
    "start_time": "2022-01-20T16:17:16.776Z"
   },
   {
    "duration": 10,
    "start_time": "2022-01-20T16:17:17.431Z"
   },
   {
    "duration": 10,
    "start_time": "2022-01-20T16:21:56.788Z"
   },
   {
    "duration": 9,
    "start_time": "2022-01-20T16:22:27.511Z"
   },
   {
    "duration": 13,
    "start_time": "2022-01-20T16:22:39.104Z"
   },
   {
    "duration": 24,
    "start_time": "2022-01-20T16:24:10.794Z"
   },
   {
    "duration": 15,
    "start_time": "2022-01-20T16:34:10.990Z"
   },
   {
    "duration": 13,
    "start_time": "2022-01-20T16:34:25.363Z"
   },
   {
    "duration": 328,
    "start_time": "2022-01-20T16:54:52.314Z"
   },
   {
    "duration": 331,
    "start_time": "2022-01-20T17:01:37.858Z"
   },
   {
    "duration": 615,
    "start_time": "2022-01-20T17:01:51.827Z"
   },
   {
    "duration": 325,
    "start_time": "2022-01-20T17:02:00.325Z"
   },
   {
    "duration": 588,
    "start_time": "2022-01-20T17:02:12.211Z"
   },
   {
    "duration": 652,
    "start_time": "2022-01-20T17:02:31.273Z"
   },
   {
    "duration": 612,
    "start_time": "2022-01-20T17:03:19.544Z"
   },
   {
    "duration": 599,
    "start_time": "2022-01-20T17:07:17.476Z"
   },
   {
    "duration": 4,
    "start_time": "2022-01-20T17:07:54.953Z"
   },
   {
    "duration": 64,
    "start_time": "2022-01-20T17:07:54.961Z"
   },
   {
    "duration": 19,
    "start_time": "2022-01-20T17:07:55.028Z"
   },
   {
    "duration": 29,
    "start_time": "2022-01-20T17:07:55.050Z"
   },
   {
    "duration": 11,
    "start_time": "2022-01-20T17:07:55.082Z"
   },
   {
    "duration": 17,
    "start_time": "2022-01-20T17:07:55.096Z"
   },
   {
    "duration": 19,
    "start_time": "2022-01-20T17:07:55.116Z"
   },
   {
    "duration": 35,
    "start_time": "2022-01-20T17:07:55.139Z"
   },
   {
    "duration": 36,
    "start_time": "2022-01-20T17:07:55.179Z"
   },
   {
    "duration": 46,
    "start_time": "2022-01-20T17:07:55.219Z"
   },
   {
    "duration": 4,
    "start_time": "2022-01-20T17:08:03.095Z"
   },
   {
    "duration": 67,
    "start_time": "2022-01-20T17:08:03.104Z"
   },
   {
    "duration": 17,
    "start_time": "2022-01-20T17:08:03.174Z"
   },
   {
    "duration": 13,
    "start_time": "2022-01-20T17:08:03.194Z"
   },
   {
    "duration": 10,
    "start_time": "2022-01-20T17:08:03.209Z"
   },
   {
    "duration": 10,
    "start_time": "2022-01-20T17:08:03.222Z"
   },
   {
    "duration": 36,
    "start_time": "2022-01-20T17:08:03.234Z"
   },
   {
    "duration": 12,
    "start_time": "2022-01-20T17:08:03.273Z"
   },
   {
    "duration": 22,
    "start_time": "2022-01-20T17:08:03.288Z"
   },
   {
    "duration": 594,
    "start_time": "2022-01-20T17:08:08.183Z"
   },
   {
    "duration": 13,
    "start_time": "2022-01-20T17:10:22.011Z"
   },
   {
    "duration": 655,
    "start_time": "2022-01-20T17:10:35.472Z"
   },
   {
    "duration": 9,
    "start_time": "2022-01-20T17:10:45.423Z"
   },
   {
    "duration": 13,
    "start_time": "2022-01-20T17:11:02.354Z"
   },
   {
    "duration": 562,
    "start_time": "2022-01-20T17:11:08.795Z"
   },
   {
    "duration": 553,
    "start_time": "2022-01-20T17:11:20.387Z"
   },
   {
    "duration": 4,
    "start_time": "2022-01-20T17:12:18.851Z"
   },
   {
    "duration": 57,
    "start_time": "2022-01-20T17:12:19.509Z"
   },
   {
    "duration": 18,
    "start_time": "2022-01-20T17:12:22.785Z"
   },
   {
    "duration": 12,
    "start_time": "2022-01-20T17:12:23.980Z"
   },
   {
    "duration": 7,
    "start_time": "2022-01-20T17:12:28.426Z"
   },
   {
    "duration": 6,
    "start_time": "2022-01-20T17:12:30.004Z"
   },
   {
    "duration": 11,
    "start_time": "2022-01-20T17:12:31.111Z"
   },
   {
    "duration": 10,
    "start_time": "2022-01-20T17:12:34.793Z"
   },
   {
    "duration": 23,
    "start_time": "2022-01-20T17:12:36.105Z"
   },
   {
    "duration": 14,
    "start_time": "2022-01-20T17:12:54.348Z"
   },
   {
    "duration": 577,
    "start_time": "2022-01-20T17:15:09.061Z"
   },
   {
    "duration": 14,
    "start_time": "2022-01-20T17:19:28.768Z"
   },
   {
    "duration": 340,
    "start_time": "2022-01-20T17:28:22.914Z"
   },
   {
    "duration": 366,
    "start_time": "2022-01-20T17:28:30.247Z"
   },
   {
    "duration": 350,
    "start_time": "2022-01-20T17:29:49.908Z"
   },
   {
    "duration": 351,
    "start_time": "2022-01-20T17:32:16.734Z"
   },
   {
    "duration": 343,
    "start_time": "2022-01-20T17:33:34.694Z"
   },
   {
    "duration": 334,
    "start_time": "2022-01-20T17:35:12.230Z"
   },
   {
    "duration": 13,
    "start_time": "2022-01-20T17:49:49.650Z"
   },
   {
    "duration": 23,
    "start_time": "2022-01-20T17:51:04.707Z"
   },
   {
    "duration": 32,
    "start_time": "2022-01-20T17:52:16.870Z"
   },
   {
    "duration": 27,
    "start_time": "2022-01-20T17:56:47.749Z"
   },
   {
    "duration": 304,
    "start_time": "2022-01-20T18:03:34.511Z"
   },
   {
    "duration": 372,
    "start_time": "2022-01-20T18:04:54.196Z"
   },
   {
    "duration": 301,
    "start_time": "2022-01-20T18:06:25.673Z"
   },
   {
    "duration": 466,
    "start_time": "2022-01-20T18:07:58.459Z"
   },
   {
    "duration": 422,
    "start_time": "2022-01-20T18:14:45.683Z"
   },
   {
    "duration": 463,
    "start_time": "2022-01-20T18:26:21.019Z"
   },
   {
    "duration": 10,
    "start_time": "2022-01-20T18:27:32.468Z"
   },
   {
    "duration": 382,
    "start_time": "2022-01-20T18:28:47.867Z"
   },
   {
    "duration": 9,
    "start_time": "2022-01-20T18:29:06.617Z"
   },
   {
    "duration": 405,
    "start_time": "2022-01-20T18:29:43.954Z"
   },
   {
    "duration": 9,
    "start_time": "2022-01-20T18:34:54.161Z"
   },
   {
    "duration": 376,
    "start_time": "2022-01-20T18:35:18.056Z"
   },
   {
    "duration": 9,
    "start_time": "2022-01-20T18:35:52.451Z"
   },
   {
    "duration": 10,
    "start_time": "2022-01-20T18:38:49.716Z"
   },
   {
    "duration": 356,
    "start_time": "2022-01-20T18:44:03.927Z"
   },
   {
    "duration": 364,
    "start_time": "2022-01-20T18:44:30.331Z"
   },
   {
    "duration": 10,
    "start_time": "2022-01-20T18:44:35.746Z"
   },
   {
    "duration": 4,
    "start_time": "2022-01-20T19:00:00.716Z"
   },
   {
    "duration": 15,
    "start_time": "2022-01-20T19:00:06.885Z"
   },
   {
    "duration": 15,
    "start_time": "2022-01-20T19:00:42.198Z"
   },
   {
    "duration": 14,
    "start_time": "2022-01-20T19:01:24.305Z"
   },
   {
    "duration": 4,
    "start_time": "2022-01-20T19:07:24.289Z"
   },
   {
    "duration": 15,
    "start_time": "2022-01-20T19:07:34.242Z"
   },
   {
    "duration": 15,
    "start_time": "2022-01-20T19:07:45.500Z"
   },
   {
    "duration": 15,
    "start_time": "2022-01-20T19:07:58.449Z"
   },
   {
    "duration": 15,
    "start_time": "2022-01-20T19:08:14.592Z"
   },
   {
    "duration": 5,
    "start_time": "2022-01-20T19:14:47.205Z"
   },
   {
    "duration": 87,
    "start_time": "2022-01-20T19:15:01.017Z"
   },
   {
    "duration": 16,
    "start_time": "2022-01-20T19:15:10.802Z"
   },
   {
    "duration": 14,
    "start_time": "2022-01-20T19:15:21.571Z"
   },
   {
    "duration": 13,
    "start_time": "2022-01-20T19:34:06.252Z"
   },
   {
    "duration": 12,
    "start_time": "2022-01-20T19:36:05.795Z"
   },
   {
    "duration": 5,
    "start_time": "2022-01-20T20:28:39.876Z"
   },
   {
    "duration": 87,
    "start_time": "2022-01-20T20:28:39.884Z"
   },
   {
    "duration": 24,
    "start_time": "2022-01-20T20:28:39.975Z"
   },
   {
    "duration": 25,
    "start_time": "2022-01-20T20:28:40.002Z"
   },
   {
    "duration": 9,
    "start_time": "2022-01-20T20:28:40.031Z"
   },
   {
    "duration": 6,
    "start_time": "2022-01-20T20:28:40.043Z"
   },
   {
    "duration": 15,
    "start_time": "2022-01-20T20:28:40.052Z"
   },
   {
    "duration": 15,
    "start_time": "2022-01-20T20:28:40.070Z"
   },
   {
    "duration": 37,
    "start_time": "2022-01-20T20:28:40.090Z"
   },
   {
    "duration": 15,
    "start_time": "2022-01-20T20:28:40.131Z"
   },
   {
    "duration": 658,
    "start_time": "2022-01-20T20:28:40.149Z"
   },
   {
    "duration": 11,
    "start_time": "2022-01-20T20:28:40.810Z"
   },
   {
    "duration": 460,
    "start_time": "2022-01-20T20:28:40.823Z"
   },
   {
    "duration": 426,
    "start_time": "2022-01-20T20:28:41.286Z"
   },
   {
    "duration": 363,
    "start_time": "2022-01-20T20:28:41.724Z"
   },
   {
    "duration": 376,
    "start_time": "2022-01-20T20:28:42.089Z"
   },
   {
    "duration": 437,
    "start_time": "2022-01-20T20:28:42.467Z"
   },
   {
    "duration": 12,
    "start_time": "2022-01-20T20:28:42.906Z"
   },
   {
    "duration": 57,
    "start_time": "2022-01-20T20:28:42.922Z"
   },
   {
    "duration": 33,
    "start_time": "2022-01-20T20:28:42.982Z"
   },
   {
    "duration": 327,
    "start_time": "2022-01-20T20:28:43.017Z"
   },
   {
    "duration": 332,
    "start_time": "2022-01-20T20:28:43.346Z"
   },
   {
    "duration": 299,
    "start_time": "2022-01-20T20:28:43.680Z"
   },
   {
    "duration": 507,
    "start_time": "2022-01-20T20:28:43.981Z"
   },
   {
    "duration": 555,
    "start_time": "2022-01-20T20:28:44.491Z"
   },
   {
    "duration": 533,
    "start_time": "2022-01-20T20:28:45.049Z"
   },
   {
    "duration": 8,
    "start_time": "2022-01-20T20:28:45.587Z"
   },
   {
    "duration": 409,
    "start_time": "2022-01-20T20:28:45.598Z"
   },
   {
    "duration": 9,
    "start_time": "2022-01-20T20:28:46.009Z"
   },
   {
    "duration": 551,
    "start_time": "2022-01-20T20:28:46.020Z"
   },
   {
    "duration": 13,
    "start_time": "2022-01-20T20:28:46.574Z"
   },
   {
    "duration": 627,
    "start_time": "2022-01-20T20:28:46.590Z"
   },
   {
    "duration": 9,
    "start_time": "2022-01-20T20:28:47.219Z"
   },
   {
    "duration": 402,
    "start_time": "2022-01-20T20:28:47.230Z"
   },
   {
    "duration": 13,
    "start_time": "2022-01-20T20:28:47.634Z"
   },
   {
    "duration": 22,
    "start_time": "2022-01-20T20:28:47.649Z"
   },
   {
    "duration": 18,
    "start_time": "2022-01-20T20:28:47.673Z"
   },
   {
    "duration": 14,
    "start_time": "2022-01-20T20:28:47.693Z"
   },
   {
    "duration": 19,
    "start_time": "2022-01-20T20:28:47.709Z"
   },
   {
    "duration": 34,
    "start_time": "2022-01-20T20:28:47.731Z"
   },
   {
    "duration": 24,
    "start_time": "2022-01-20T20:28:47.767Z"
   },
   {
    "duration": 16,
    "start_time": "2022-01-20T20:28:47.794Z"
   },
   {
    "duration": 14,
    "start_time": "2022-01-20T20:28:47.812Z"
   },
   {
    "duration": 36,
    "start_time": "2022-01-20T20:28:47.829Z"
   },
   {
    "duration": 14,
    "start_time": "2022-01-20T20:28:47.867Z"
   },
   {
    "duration": 24,
    "start_time": "2022-01-20T20:28:47.884Z"
   },
   {
    "duration": 14,
    "start_time": "2022-01-20T20:28:47.911Z"
   },
   {
    "duration": 43,
    "start_time": "2022-01-20T20:28:47.927Z"
   },
   {
    "duration": 20,
    "start_time": "2022-01-20T20:28:47.973Z"
   },
   {
    "duration": 7,
    "start_time": "2022-01-25T13:16:26.375Z"
   },
   {
    "duration": 57,
    "start_time": "2022-01-25T13:16:26.385Z"
   },
   {
    "duration": 29,
    "start_time": "2022-01-25T13:16:26.444Z"
   },
   {
    "duration": 22,
    "start_time": "2022-01-25T13:16:26.475Z"
   },
   {
    "duration": 9,
    "start_time": "2022-01-25T13:16:26.501Z"
   },
   {
    "duration": 7,
    "start_time": "2022-01-25T13:16:26.512Z"
   },
   {
    "duration": 44,
    "start_time": "2022-01-25T13:16:26.522Z"
   },
   {
    "duration": 12,
    "start_time": "2022-01-25T13:16:26.570Z"
   },
   {
    "duration": 25,
    "start_time": "2022-01-25T13:16:26.585Z"
   },
   {
    "duration": 53,
    "start_time": "2022-01-25T13:16:26.613Z"
   },
   {
    "duration": 609,
    "start_time": "2022-01-25T13:16:26.669Z"
   },
   {
    "duration": 12,
    "start_time": "2022-01-25T13:16:27.280Z"
   },
   {
    "duration": 378,
    "start_time": "2022-01-25T13:16:27.294Z"
   },
   {
    "duration": 367,
    "start_time": "2022-01-25T13:16:27.674Z"
   },
   {
    "duration": 365,
    "start_time": "2022-01-25T13:16:28.043Z"
   },
   {
    "duration": 351,
    "start_time": "2022-01-25T13:16:28.410Z"
   },
   {
    "duration": 355,
    "start_time": "2022-01-25T13:16:28.765Z"
   },
   {
    "duration": 12,
    "start_time": "2022-01-25T13:16:29.123Z"
   },
   {
    "duration": 40,
    "start_time": "2022-01-25T13:16:29.138Z"
   },
   {
    "duration": 28,
    "start_time": "2022-01-25T13:16:29.180Z"
   },
   {
    "duration": 311,
    "start_time": "2022-01-25T13:16:29.210Z"
   },
   {
    "duration": 302,
    "start_time": "2022-01-25T13:16:29.524Z"
   },
   {
    "duration": 390,
    "start_time": "2022-01-25T13:16:29.828Z"
   },
   {
    "duration": 501,
    "start_time": "2022-01-25T13:16:30.221Z"
   },
   {
    "duration": 474,
    "start_time": "2022-01-25T13:16:30.725Z"
   },
   {
    "duration": 446,
    "start_time": "2022-01-25T13:16:31.201Z"
   },
   {
    "duration": 16,
    "start_time": "2022-01-25T13:16:31.650Z"
   },
   {
    "duration": 425,
    "start_time": "2022-01-25T13:16:31.669Z"
   },
   {
    "duration": 9,
    "start_time": "2022-01-25T13:16:32.097Z"
   },
   {
    "duration": 419,
    "start_time": "2022-01-25T13:16:32.109Z"
   },
   {
    "duration": 10,
    "start_time": "2022-01-25T13:16:32.531Z"
   },
   {
    "duration": 394,
    "start_time": "2022-01-25T13:16:32.544Z"
   },
   {
    "duration": 9,
    "start_time": "2022-01-25T13:16:32.940Z"
   },
   {
    "duration": 359,
    "start_time": "2022-01-25T13:16:32.951Z"
   },
   {
    "duration": 10,
    "start_time": "2022-01-25T13:16:33.313Z"
   },
   {
    "duration": 7,
    "start_time": "2022-01-25T13:16:33.325Z"
   },
   {
    "duration": 37,
    "start_time": "2022-01-25T13:16:33.334Z"
   },
   {
    "duration": 16,
    "start_time": "2022-01-25T13:16:33.374Z"
   },
   {
    "duration": 17,
    "start_time": "2022-01-25T13:16:33.392Z"
   },
   {
    "duration": 5,
    "start_time": "2022-01-25T13:16:33.411Z"
   },
   {
    "duration": 49,
    "start_time": "2022-01-25T13:16:33.418Z"
   },
   {
    "duration": 15,
    "start_time": "2022-01-25T13:16:33.470Z"
   },
   {
    "duration": 14,
    "start_time": "2022-01-25T13:16:33.488Z"
   },
   {
    "duration": 7,
    "start_time": "2022-01-25T13:16:33.505Z"
   },
   {
    "duration": 26,
    "start_time": "2022-01-25T13:16:33.515Z"
   },
   {
    "duration": 14,
    "start_time": "2022-01-25T13:16:33.566Z"
   },
   {
    "duration": 18,
    "start_time": "2022-01-25T13:16:33.583Z"
   },
   {
    "duration": 13,
    "start_time": "2022-01-25T13:16:33.604Z"
   },
   {
    "duration": 48,
    "start_time": "2022-01-25T13:16:33.619Z"
   },
   {
    "duration": 1073,
    "start_time": "2022-01-25T20:58:33.665Z"
   },
   {
    "duration": 44,
    "start_time": "2022-01-25T20:58:40.008Z"
   },
   {
    "duration": 14,
    "start_time": "2022-01-25T20:58:42.101Z"
   },
   {
    "duration": 10,
    "start_time": "2022-01-25T20:58:44.028Z"
   },
   {
    "duration": 8,
    "start_time": "2022-01-25T21:06:53.257Z"
   },
   {
    "duration": 5,
    "start_time": "2022-01-25T21:06:56.026Z"
   },
   {
    "duration": 8,
    "start_time": "2022-01-25T21:06:58.728Z"
   },
   {
    "duration": 8,
    "start_time": "2022-01-25T21:07:03.738Z"
   },
   {
    "duration": 4,
    "start_time": "2022-01-25T21:09:54.102Z"
   },
   {
    "duration": 8,
    "start_time": "2022-01-25T21:10:15.285Z"
   },
   {
    "duration": 18,
    "start_time": "2022-01-25T21:22:14.544Z"
   },
   {
    "duration": 9,
    "start_time": "2022-01-25T21:32:56.696Z"
   },
   {
    "duration": 360,
    "start_time": "2022-01-25T21:33:00.322Z"
   },
   {
    "duration": 7,
    "start_time": "2022-01-25T21:34:52.113Z"
   },
   {
    "duration": 221,
    "start_time": "2022-01-25T21:35:43.734Z"
   },
   {
    "duration": 353,
    "start_time": "2022-01-25T21:36:47.996Z"
   },
   {
    "duration": 381,
    "start_time": "2022-01-25T21:39:14.395Z"
   },
   {
    "duration": 386,
    "start_time": "2022-01-25T21:43:52.567Z"
   },
   {
    "duration": 426,
    "start_time": "2022-01-25T21:44:16.525Z"
   },
   {
    "duration": 407,
    "start_time": "2022-01-25T21:47:16.436Z"
   },
   {
    "duration": 205,
    "start_time": "2022-01-25T21:50:29.933Z"
   },
   {
    "duration": 193,
    "start_time": "2022-01-25T21:50:32.110Z"
   },
   {
    "duration": 257,
    "start_time": "2022-01-25T21:50:34.789Z"
   },
   {
    "duration": 197,
    "start_time": "2022-01-25T21:50:36.679Z"
   },
   {
    "duration": 212,
    "start_time": "2022-01-25T21:50:40.106Z"
   },
   {
    "duration": 8,
    "start_time": "2022-01-25T21:51:38.464Z"
   },
   {
    "duration": 13,
    "start_time": "2022-01-25T21:53:25.138Z"
   },
   {
    "duration": 397,
    "start_time": "2022-01-25T21:54:29.516Z"
   },
   {
    "duration": 17,
    "start_time": "2022-01-25T21:54:47.774Z"
   },
   {
    "duration": 300,
    "start_time": "2022-01-25T21:55:22.243Z"
   },
   {
    "duration": 17,
    "start_time": "2022-01-25T21:55:37.678Z"
   },
   {
    "duration": 18,
    "start_time": "2022-01-25T21:55:58.750Z"
   },
   {
    "duration": 20,
    "start_time": "2022-01-25T21:56:09.227Z"
   },
   {
    "duration": 17,
    "start_time": "2022-01-25T21:57:10.683Z"
   },
   {
    "duration": 18,
    "start_time": "2022-01-25T21:57:46.202Z"
   },
   {
    "duration": 157,
    "start_time": "2022-01-25T21:59:32.586Z"
   },
   {
    "duration": 163,
    "start_time": "2022-01-25T21:59:34.545Z"
   },
   {
    "duration": 172,
    "start_time": "2022-01-25T21:59:35.793Z"
   },
   {
    "duration": 257,
    "start_time": "2022-01-25T21:59:37.232Z"
   },
   {
    "duration": 300,
    "start_time": "2022-01-25T22:03:18.805Z"
   },
   {
    "duration": 256,
    "start_time": "2022-01-25T22:03:45.493Z"
   },
   {
    "duration": 382,
    "start_time": "2022-01-25T22:10:27.228Z"
   },
   {
    "duration": 262,
    "start_time": "2022-01-25T22:10:55.917Z"
   },
   {
    "duration": 326,
    "start_time": "2022-01-25T22:11:05.245Z"
   },
   {
    "duration": 6,
    "start_time": "2022-01-25T22:11:12.487Z"
   },
   {
    "duration": 244,
    "start_time": "2022-01-25T22:11:26.900Z"
   },
   {
    "duration": 7,
    "start_time": "2022-01-25T22:11:46.259Z"
   },
   {
    "duration": 330,
    "start_time": "2022-01-25T22:11:59.320Z"
   },
   {
    "duration": 7,
    "start_time": "2022-01-25T22:12:11.921Z"
   },
   {
    "duration": 296,
    "start_time": "2022-01-25T22:12:21.950Z"
   },
   {
    "duration": 7,
    "start_time": "2022-01-25T22:12:36.137Z"
   },
   {
    "duration": 299,
    "start_time": "2022-01-25T22:15:16.004Z"
   },
   {
    "duration": 199,
    "start_time": "2022-01-25T22:15:37.282Z"
   },
   {
    "duration": 316,
    "start_time": "2022-01-25T22:16:00.701Z"
   },
   {
    "duration": 7,
    "start_time": "2022-01-25T22:16:10.980Z"
   },
   {
    "duration": 7,
    "start_time": "2022-01-25T22:16:37.917Z"
   },
   {
    "duration": 7,
    "start_time": "2022-01-25T22:16:56.046Z"
   },
   {
    "duration": 3,
    "start_time": "2022-01-25T22:24:31.583Z"
   },
   {
    "duration": 633,
    "start_time": "2022-01-25T22:25:29.889Z"
   },
   {
    "duration": 3,
    "start_time": "2022-01-25T22:25:58.029Z"
   },
   {
    "duration": 438,
    "start_time": "2022-01-25T22:25:59.802Z"
   },
   {
    "duration": 3,
    "start_time": "2022-01-25T22:29:02.177Z"
   },
   {
    "duration": 637,
    "start_time": "2022-01-25T22:29:03.654Z"
   },
   {
    "duration": 3,
    "start_time": "2022-01-25T22:29:23.071Z"
   },
   {
    "duration": 1518,
    "start_time": "2022-01-25T22:29:24.140Z"
   },
   {
    "duration": 3,
    "start_time": "2022-01-25T22:30:14.537Z"
   },
   {
    "duration": 472,
    "start_time": "2022-01-25T22:30:15.635Z"
   },
   {
    "duration": 179,
    "start_time": "2022-01-25T22:30:27.279Z"
   },
   {
    "duration": 3,
    "start_time": "2022-01-25T22:33:05.020Z"
   },
   {
    "duration": 9,
    "start_time": "2022-01-25T22:33:06.377Z"
   },
   {
    "duration": 10,
    "start_time": "2022-01-25T22:33:10.625Z"
   },
   {
    "duration": 3,
    "start_time": "2022-01-25T22:36:36.613Z"
   },
   {
    "duration": 162,
    "start_time": "2022-01-25T22:36:37.413Z"
   },
   {
    "duration": 4,
    "start_time": "2022-01-25T22:40:52.013Z"
   },
   {
    "duration": 165,
    "start_time": "2022-01-25T22:40:53.056Z"
   },
   {
    "duration": 4,
    "start_time": "2022-01-25T22:42:33.817Z"
   },
   {
    "duration": 779,
    "start_time": "2022-01-25T22:42:34.633Z"
   },
   {
    "duration": 3,
    "start_time": "2022-01-25T22:43:32.054Z"
   },
   {
    "duration": 166,
    "start_time": "2022-01-25T22:43:33.171Z"
   },
   {
    "duration": 5,
    "start_time": "2022-01-25T22:47:35.786Z"
   },
   {
    "duration": 780,
    "start_time": "2022-01-25T22:47:36.869Z"
   },
   {
    "duration": 4,
    "start_time": "2022-01-25T22:47:49.541Z"
   },
   {
    "duration": 171,
    "start_time": "2022-01-25T22:47:50.435Z"
   },
   {
    "duration": 4,
    "start_time": "2022-01-25T22:49:27.984Z"
   },
   {
    "duration": 191,
    "start_time": "2022-01-25T22:49:28.969Z"
   },
   {
    "duration": 4,
    "start_time": "2022-01-25T22:49:41.780Z"
   },
   {
    "duration": 256,
    "start_time": "2022-01-25T22:49:43.170Z"
   },
   {
    "duration": 183,
    "start_time": "2022-01-25T22:49:54.447Z"
   },
   {
    "duration": 181,
    "start_time": "2022-01-25T22:50:14.770Z"
   },
   {
    "duration": 4,
    "start_time": "2022-01-25T22:51:45.157Z"
   },
   {
    "duration": 1000,
    "start_time": "2022-01-25T22:51:46.812Z"
   },
   {
    "duration": 4,
    "start_time": "2022-01-25T22:52:02.940Z"
   },
   {
    "duration": 215,
    "start_time": "2022-01-25T22:52:03.702Z"
   },
   {
    "duration": 213,
    "start_time": "2022-01-25T22:52:07.054Z"
   },
   {
    "duration": 219,
    "start_time": "2022-01-25T22:52:10.196Z"
   },
   {
    "duration": 4,
    "start_time": "2022-01-25T22:54:34.398Z"
   },
   {
    "duration": 150,
    "start_time": "2022-01-25T22:54:35.167Z"
   },
   {
    "duration": 151,
    "start_time": "2022-01-25T22:54:40.971Z"
   },
   {
    "duration": 141,
    "start_time": "2022-01-25T22:54:44.259Z"
   },
   {
    "duration": 332,
    "start_time": "2022-01-25T23:01:00.681Z"
   },
   {
    "duration": 8,
    "start_time": "2022-01-25T23:01:32.209Z"
   },
   {
    "duration": 9,
    "start_time": "2022-01-25T23:01:59.535Z"
   },
   {
    "duration": 3,
    "start_time": "2022-01-25T23:45:00.743Z"
   },
   {
    "duration": 45,
    "start_time": "2022-01-25T23:45:00.748Z"
   },
   {
    "duration": 13,
    "start_time": "2022-01-25T23:45:00.795Z"
   },
   {
    "duration": 18,
    "start_time": "2022-01-25T23:45:00.810Z"
   },
   {
    "duration": 13,
    "start_time": "2022-01-25T23:45:00.830Z"
   },
   {
    "duration": 18,
    "start_time": "2022-01-25T23:45:00.845Z"
   },
   {
    "duration": 21,
    "start_time": "2022-01-25T23:45:00.865Z"
   },
   {
    "duration": 11,
    "start_time": "2022-01-25T23:45:00.888Z"
   },
   {
    "duration": 30,
    "start_time": "2022-01-25T23:45:00.902Z"
   },
   {
    "duration": 18,
    "start_time": "2022-01-25T23:45:00.935Z"
   },
   {
    "duration": 12,
    "start_time": "2022-01-25T23:45:00.955Z"
   },
   {
    "duration": 363,
    "start_time": "2022-01-25T23:45:00.969Z"
   },
   {
    "duration": 8,
    "start_time": "2022-01-25T23:45:01.334Z"
   },
   {
    "duration": 531,
    "start_time": "2022-01-25T23:45:01.344Z"
   },
   {
    "duration": 297,
    "start_time": "2022-01-25T23:45:01.877Z"
   },
   {
    "duration": 210,
    "start_time": "2022-01-25T23:45:02.176Z"
   },
   {
    "duration": 205,
    "start_time": "2022-01-25T23:45:02.388Z"
   },
   {
    "duration": 203,
    "start_time": "2022-01-25T23:45:02.595Z"
   },
   {
    "duration": 201,
    "start_time": "2022-01-25T23:45:02.800Z"
   },
   {
    "duration": 10,
    "start_time": "2022-01-25T23:45:03.003Z"
   },
   {
    "duration": 12,
    "start_time": "2022-01-25T23:45:03.015Z"
   },
   {
    "duration": 43,
    "start_time": "2022-01-25T23:45:03.029Z"
   },
   {
    "duration": 173,
    "start_time": "2022-01-25T23:45:03.074Z"
   },
   {
    "duration": 168,
    "start_time": "2022-01-25T23:45:03.249Z"
   },
   {
    "duration": 278,
    "start_time": "2022-01-25T23:45:03.419Z"
   },
   {
    "duration": 268,
    "start_time": "2022-01-25T23:45:03.699Z"
   },
   {
    "duration": 285,
    "start_time": "2022-01-25T23:45:03.973Z"
   },
   {
    "duration": 361,
    "start_time": "2022-01-25T23:45:04.272Z"
   },
   {
    "duration": 6,
    "start_time": "2022-01-25T23:45:04.634Z"
   },
   {
    "duration": 295,
    "start_time": "2022-01-25T23:45:04.642Z"
   },
   {
    "duration": 6,
    "start_time": "2022-01-25T23:45:04.938Z"
   },
   {
    "duration": 326,
    "start_time": "2022-01-25T23:45:04.945Z"
   },
   {
    "duration": 7,
    "start_time": "2022-01-25T23:45:05.273Z"
   },
   {
    "duration": 263,
    "start_time": "2022-01-25T23:45:05.282Z"
   },
   {
    "duration": 6,
    "start_time": "2022-01-25T23:45:05.547Z"
   },
   {
    "duration": 219,
    "start_time": "2022-01-25T23:45:05.555Z"
   },
   {
    "duration": 7,
    "start_time": "2022-01-25T23:45:05.776Z"
   },
   {
    "duration": 25,
    "start_time": "2022-01-25T23:45:05.784Z"
   },
   {
    "duration": 198,
    "start_time": "2022-01-25T23:45:05.811Z"
   },
   {
    "duration": 197,
    "start_time": "2022-01-25T23:45:06.010Z"
   },
   {
    "duration": 194,
    "start_time": "2022-01-25T23:45:06.209Z"
   },
   {
    "duration": 4,
    "start_time": "2022-01-25T23:45:06.405Z"
   },
   {
    "duration": 226,
    "start_time": "2022-01-25T23:45:06.411Z"
   },
   {
    "duration": 226,
    "start_time": "2022-01-25T23:45:06.639Z"
   },
   {
    "duration": 223,
    "start_time": "2022-01-25T23:45:06.871Z"
   },
   {
    "duration": 5,
    "start_time": "2022-01-25T23:45:07.096Z"
   },
   {
    "duration": 218,
    "start_time": "2022-01-25T23:45:07.103Z"
   },
   {
    "duration": 164,
    "start_time": "2022-01-25T23:45:07.323Z"
   },
   {
    "duration": 156,
    "start_time": "2022-01-25T23:45:07.489Z"
   },
   {
    "duration": 9,
    "start_time": "2022-01-25T23:45:07.647Z"
   },
   {
    "duration": 20,
    "start_time": "2022-01-25T23:45:07.658Z"
   }
  ],
  "kernelspec": {
   "display_name": "Python 3 (ipykernel)",
   "language": "python",
   "name": "python3"
  },
  "language_info": {
   "codemirror_mode": {
    "name": "ipython",
    "version": 3
   },
   "file_extension": ".py",
   "mimetype": "text/x-python",
   "name": "python",
   "nbconvert_exporter": "python",
   "pygments_lexer": "ipython3",
   "version": "3.9.5"
  },
  "toc": {
   "base_numbering": 1,
   "nav_menu": {},
   "number_sections": false,
   "sideBar": true,
   "skip_h1_title": false,
   "title_cell": "Table of Contents",
   "title_sidebar": "Contents",
   "toc_cell": false,
   "toc_position": {},
   "toc_section_display": true,
   "toc_window_display": true
  }
 },
 "nbformat": 4,
 "nbformat_minor": 2
}
